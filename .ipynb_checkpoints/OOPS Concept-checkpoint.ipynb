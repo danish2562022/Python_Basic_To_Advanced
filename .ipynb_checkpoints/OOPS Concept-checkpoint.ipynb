{
 "cells": [
  {
   "cell_type": "code",
   "execution_count": 1,
   "metadata": {},
   "outputs": [],
   "source": [
    "class Employee:\n",
    "    pass"
   ]
  },
  {
   "cell_type": "code",
   "execution_count": 2,
   "metadata": {},
   "outputs": [
    {
     "name": "stdout",
     "output_type": "stream",
     "text": [
      "<__main__.Employee object at 0x000001CE401485E0>\n",
      "<__main__.Employee object at 0x000001CE40148D90>\n"
     ]
    }
   ],
   "source": [
    "#instance of class\n",
    "emp_1=Employee()\n",
    "emp_2=Employee()\n",
    "print(emp_1)\n",
    "print(emp_2)"
   ]
  },
  {
   "cell_type": "code",
   "execution_count": 3,
   "metadata": {},
   "outputs": [],
   "source": [
    "emp_1.first=\"danish\"\n",
    "emp_1.last=\"anwer\"\n",
    "emp_1.salary=\"20000\"\n",
    "emp_1.email=\"Danish2562022@gmail.com\"\n",
    "\n",
    "\n",
    "emp_2.first=\"sanketa\"\n",
    "emp_2.last=\"hegde\"\n",
    "emp_2.salary=\"30000\"\n",
    "emp_2.email=\"sanketahegde@gmail.com\""
   ]
  },
  {
   "cell_type": "code",
   "execution_count": 4,
   "metadata": {},
   "outputs": [
    {
     "name": "stdout",
     "output_type": "stream",
     "text": [
      "Danish2562022@gmail.com\n",
      "sanketahegde@gmail.com\n"
     ]
    }
   ],
   "source": [
    "print(emp_1.email)\n",
    "print(emp_2.email)"
   ]
  },
  {
   "cell_type": "code",
   "execution_count": 5,
   "metadata": {},
   "outputs": [],
   "source": [
    "class Employee:\n",
    "    \n",
    "    def __init__(self,first,last,pay,email):\n",
    "        self.first=first\n",
    "        self.last=last\n",
    "        self.pay=pay\n",
    "        self.email=email"
   ]
  },
  {
   "cell_type": "code",
   "execution_count": 6,
   "metadata": {},
   "outputs": [],
   "source": [
    "emp_1=Employee(\"Danish\",\"Anwer\",20000,\"danish2562022@gmail.com\")\n",
    "emp_2=Employee(\"Sanketa\",\"Hegde\",30000,\"sanketahegde@gmail.com\")"
   ]
  },
  {
   "cell_type": "code",
   "execution_count": 7,
   "metadata": {},
   "outputs": [
    {
     "name": "stdout",
     "output_type": "stream",
     "text": [
      "danish2562022@gmail.com\n"
     ]
    }
   ],
   "source": [
    "print(emp_1.email)"
   ]
  },
  {
   "cell_type": "code",
   "execution_count": 8,
   "metadata": {},
   "outputs": [
    {
     "name": "stdout",
     "output_type": "stream",
     "text": [
      "danish2562022@gmail.com and sanketahegde@gmail.com are in same dept\n"
     ]
    }
   ],
   "source": [
    "print(f\"{emp_1.email} and {emp_2.email} are in same dept\")"
   ]
  },
  {
   "cell_type": "code",
   "execution_count": 9,
   "metadata": {},
   "outputs": [],
   "source": [
    "class Employee:\n",
    "    \n",
    "    def __init__(self,first,last,pay,email):\n",
    "        self.first=first\n",
    "        self.last=last\n",
    "        self.pay=pay\n",
    "        self.email=email\n",
    "        \n",
    "    def fullname(self):\n",
    "        return(self.first+\" \"+self.last)\n"
   ]
  },
  {
   "cell_type": "code",
   "execution_count": 10,
   "metadata": {},
   "outputs": [],
   "source": [
    "emp_1=Employee(\"Danish\",\"Anwer\",20000,\"danish2562022@gmail.com\")\n",
    "emp_2=Employee(\"Sanketa\",\"Hegde\",30000,\"sanketahegde@gmail.com\")"
   ]
  },
  {
   "cell_type": "code",
   "execution_count": 11,
   "metadata": {},
   "outputs": [
    {
     "name": "stdout",
     "output_type": "stream",
     "text": [
      "<bound method Employee.fullname of <__main__.Employee object at 0x000001CE40162A30>>\n"
     ]
    }
   ],
   "source": [
    "print(emp_1.fullname)"
   ]
  },
  {
   "cell_type": "code",
   "execution_count": 12,
   "metadata": {},
   "outputs": [
    {
     "name": "stdout",
     "output_type": "stream",
     "text": [
      "Danish Anwer\n"
     ]
    }
   ],
   "source": [
    "print(emp_1.fullname())"
   ]
  },
  {
   "cell_type": "code",
   "execution_count": 13,
   "metadata": {},
   "outputs": [
    {
     "name": "stdout",
     "output_type": "stream",
     "text": [
      "Sanketa Hegde\n"
     ]
    }
   ],
   "source": [
    "print(emp_2.fullname())"
   ]
  },
  {
   "cell_type": "code",
   "execution_count": 14,
   "metadata": {},
   "outputs": [],
   "source": [
    "class Employee:\n",
    "    \n",
    "    def __init__(self,first,last,pay,email):\n",
    "        self.first=first\n",
    "        self.last=last\n",
    "        self.pay=pay\n",
    "        self.email=email\n",
    "        \n",
    "    def fullname(self):\n",
    "        return(self.first+\" \"+self.last)\n",
    "    \n",
    "    def apply_raise(self):\n",
    "        self.pay=int(self.pay*1.04)\n",
    "        "
   ]
  },
  {
   "cell_type": "code",
   "execution_count": 15,
   "metadata": {},
   "outputs": [],
   "source": [
    "emp_1=Employee(\"Danish\",\"Anwer\",20000,\"danish2562022@gmail.com\")\n",
    "emp_2=Employee(\"Sanketa\",\"Hegde\",30000,\"sanketahegde@gmail.com\")"
   ]
  },
  {
   "cell_type": "code",
   "execution_count": 16,
   "metadata": {},
   "outputs": [
    {
     "name": "stdout",
     "output_type": "stream",
     "text": [
      "20000\n",
      "20800\n",
      "30000\n"
     ]
    }
   ],
   "source": [
    "print(emp_1.pay)\n",
    "emp_1.apply_raise()\n",
    "print(emp_1.pay)\n",
    "print(emp_2.pay)"
   ]
  },
  {
   "cell_type": "code",
   "execution_count": 17,
   "metadata": {},
   "outputs": [],
   "source": [
    "class Employee:\n",
    "    raise_amount=1.04\n",
    "    def __init__(self,first,last,pay,email):\n",
    "        self.first=first\n",
    "        self.last=last\n",
    "        self.pay=pay\n",
    "        self.email=email\n",
    "        \n",
    "    def fullname(self):\n",
    "        return(self.first+\" \"+self.last)\n",
    "    \n",
    "    def apply_raise(self):\n",
    "        self.pay=int(self.pay*raise_amount)"
   ]
  },
  {
   "cell_type": "code",
   "execution_count": 18,
   "metadata": {},
   "outputs": [],
   "source": [
    "emp_1=Employee(\"Danish\",\"Anwer\",20000,\"danish2562022@gmail.com\")\n",
    "emp_2=Employee(\"Sanketa\",\"Hegde\",30000,\"sanketahegde@gmail.com\")"
   ]
  },
  {
   "cell_type": "code",
   "execution_count": 19,
   "metadata": {},
   "outputs": [
    {
     "ename": "NameError",
     "evalue": "name 'raise_amount' is not defined",
     "output_type": "error",
     "traceback": [
      "\u001b[1;31m---------------------------------------------------------------------------\u001b[0m",
      "\u001b[1;31mNameError\u001b[0m                                 Traceback (most recent call last)",
      "\u001b[1;32m<ipython-input-19-201f887ff8cf>\u001b[0m in \u001b[0;36m<module>\u001b[1;34m\u001b[0m\n\u001b[1;32m----> 1\u001b[1;33m \u001b[0memp_1\u001b[0m\u001b[1;33m.\u001b[0m\u001b[0mapply_raise\u001b[0m\u001b[1;33m(\u001b[0m\u001b[1;33m)\u001b[0m\u001b[1;33m\u001b[0m\u001b[1;33m\u001b[0m\u001b[0m\n\u001b[0m",
      "\u001b[1;32m<ipython-input-17-88618629561f>\u001b[0m in \u001b[0;36mapply_raise\u001b[1;34m(self)\u001b[0m\n\u001b[0;32m     11\u001b[0m \u001b[1;33m\u001b[0m\u001b[0m\n\u001b[0;32m     12\u001b[0m     \u001b[1;32mdef\u001b[0m \u001b[0mapply_raise\u001b[0m\u001b[1;33m(\u001b[0m\u001b[0mself\u001b[0m\u001b[1;33m)\u001b[0m\u001b[1;33m:\u001b[0m\u001b[1;33m\u001b[0m\u001b[1;33m\u001b[0m\u001b[0m\n\u001b[1;32m---> 13\u001b[1;33m         \u001b[0mself\u001b[0m\u001b[1;33m.\u001b[0m\u001b[0mpay\u001b[0m\u001b[1;33m=\u001b[0m\u001b[0mint\u001b[0m\u001b[1;33m(\u001b[0m\u001b[0mself\u001b[0m\u001b[1;33m.\u001b[0m\u001b[0mpay\u001b[0m\u001b[1;33m*\u001b[0m\u001b[0mraise_amount\u001b[0m\u001b[1;33m)\u001b[0m\u001b[1;33m\u001b[0m\u001b[1;33m\u001b[0m\u001b[0m\n\u001b[0m",
      "\u001b[1;31mNameError\u001b[0m: name 'raise_amount' is not defined"
     ]
    }
   ],
   "source": [
    "emp_1.apply_raise()"
   ]
  },
  {
   "cell_type": "code",
   "execution_count": 20,
   "metadata": {},
   "outputs": [],
   "source": [
    "class Employee:\n",
    "    raise_amount=1.04\n",
    "    def __init__(self,first,last,pay,email):\n",
    "        self.first=first\n",
    "        self.last=last\n",
    "        self.pay=pay\n",
    "        self.email=email\n",
    "        \n",
    "    def fullname(self):\n",
    "        return(self.first+\" \"+self.last)\n",
    "    \n",
    "    def apply_raise(self):\n",
    "        self.pay=int(self.pay*self.raise_amount)"
   ]
  },
  {
   "cell_type": "code",
   "execution_count": 21,
   "metadata": {},
   "outputs": [],
   "source": [
    "emp_1=Employee(\"Danish\",\"Anwer\",20000,\"danish2562022@gmail.com\")\n",
    "emp_2=Employee(\"Sanketa\",\"Hegde\",30000,\"sanketahegde@gmail.com\")"
   ]
  },
  {
   "cell_type": "code",
   "execution_count": 22,
   "metadata": {},
   "outputs": [
    {
     "name": "stdout",
     "output_type": "stream",
     "text": [
      "20000\n",
      "20800\n"
     ]
    }
   ],
   "source": [
    "print(emp_1.pay)\n",
    "emp_1.apply_raise()\n",
    "print(emp_1.pay)"
   ]
  },
  {
   "cell_type": "code",
   "execution_count": 23,
   "metadata": {},
   "outputs": [
    {
     "name": "stdout",
     "output_type": "stream",
     "text": [
      "1.04\n",
      "1.04\n",
      "1.04\n"
     ]
    }
   ],
   "source": [
    "print(Employee.raise_amount)\n",
    "print(emp_1.raise_amount)\n",
    "print(emp_2.raise_amount)"
   ]
  },
  {
   "cell_type": "code",
   "execution_count": 24,
   "metadata": {},
   "outputs": [
    {
     "name": "stdout",
     "output_type": "stream",
     "text": [
      "{'first': 'Danish', 'last': 'Anwer', 'pay': 20800, 'email': 'danish2562022@gmail.com'}\n"
     ]
    }
   ],
   "source": [
    "print(emp_1.__dict__)"
   ]
  },
  {
   "cell_type": "code",
   "execution_count": 25,
   "metadata": {},
   "outputs": [
    {
     "name": "stdout",
     "output_type": "stream",
     "text": [
      "{'__module__': '__main__', 'raise_amount': 1.04, '__init__': <function Employee.__init__ at 0x000001CE40245550>, 'fullname': <function Employee.fullname at 0x000001CE40245700>, 'apply_raise': <function Employee.apply_raise at 0x000001CE40245790>, '__dict__': <attribute '__dict__' of 'Employee' objects>, '__weakref__': <attribute '__weakref__' of 'Employee' objects>, '__doc__': None}\n"
     ]
    }
   ],
   "source": [
    "print(Employee.__dict__)"
   ]
  },
  {
   "cell_type": "code",
   "execution_count": 26,
   "metadata": {},
   "outputs": [
    {
     "name": "stdout",
     "output_type": "stream",
     "text": [
      "1.05\n",
      "1.05\n",
      "1.05\n"
     ]
    }
   ],
   "source": [
    "Employee.raise_amount=1.05\n",
    "print(Employee.raise_amount)\n",
    "print(emp_1.raise_amount)\n",
    "print(emp_2.raise_amount)"
   ]
  },
  {
   "cell_type": "code",
   "execution_count": 27,
   "metadata": {},
   "outputs": [],
   "source": [
    "emp_1.raise_amount=1.20"
   ]
  },
  {
   "cell_type": "code",
   "execution_count": 57,
   "metadata": {},
   "outputs": [
    {
     "name": "stdout",
     "output_type": "stream",
     "text": [
      "1.05\n",
      "1.2\n",
      "1.05\n"
     ]
    }
   ],
   "source": [
    "print(Employee.raise_amount)\n",
    "print(emp_1.raise_amount)\n",
    "print(emp_2.raise_amount)"
   ]
  },
  {
   "cell_type": "code",
   "execution_count": 58,
   "metadata": {},
   "outputs": [
    {
     "name": "stdout",
     "output_type": "stream",
     "text": [
      "{'first': 'Danish', 'last': 'Anwer', 'pay': 20800, 'email': 'danish2562022@gmail.com', 'raise_amount': 1.2}\n"
     ]
    }
   ],
   "source": [
    "print(emp_1.__dict__)"
   ]
  },
  {
   "cell_type": "code",
   "execution_count": 59,
   "metadata": {},
   "outputs": [
    {
     "name": "stdout",
     "output_type": "stream",
     "text": [
      "{'first': 'Sanketa', 'last': 'Hegde', 'pay': 30000, 'email': 'sanketahegde@gmail.com'}\n"
     ]
    }
   ],
   "source": [
    "print(emp_2.__dict__)"
   ]
  },
  {
   "cell_type": "code",
   "execution_count": 28,
   "metadata": {},
   "outputs": [],
   "source": [
    "class Employee:\n",
    "    num_of_emp=0\n",
    "    raise_amount=1.04\n",
    "    def __init__(self,first,last,pay,email):\n",
    "        self.first=first\n",
    "        self.last=last\n",
    "        self.pay=pay\n",
    "        self.email=email\n",
    "        Employee.num_of_emp+=1\n",
    "    def fullname(self):\n",
    "        return(self.first+\" \"+self.last)\n",
    "    \n",
    "    def apply_raise(self):\n",
    "        self.pay=int(self.pay*self.raise_amount)"
   ]
  },
  {
   "cell_type": "code",
   "execution_count": 29,
   "metadata": {},
   "outputs": [
    {
     "name": "stdout",
     "output_type": "stream",
     "text": [
      "0\n",
      "2\n"
     ]
    }
   ],
   "source": [
    "print(Employee.num_of_emp)\n",
    "emp_1=Employee(\"Danish\",\"Anwer\",20000,\"danish2562022@gmail.com\")\n",
    "emp_2=Employee(\"Sanketa\",\"Hegde\",30000,\"sanketahegde@gmail.com\")\n",
    "print(Employee.num_of_emp)"
   ]
  },
  {
   "cell_type": "code",
   "execution_count": 32,
   "metadata": {},
   "outputs": [],
   "source": [
    "class Employee:\n",
    "    num_of_emp=0\n",
    "    raise_amt=1.04\n",
    "    def __init__(self,first,last,pay,email):\n",
    "        self.first=first\n",
    "        self.last=last\n",
    "        self.pay=pay\n",
    "        self.email=email\n",
    "        Employee.num_of_emp+=1\n",
    "    def fullname(self):\n",
    "        return(self.first+\" \"+self.last)\n",
    "    \n",
    "    def apply_raise(self):\n",
    "        self.pay=int(self.pay*self.raise_amt)\n",
    "        \n",
    "    @classmethod    \n",
    "    def set_raise_amt(cls,amount):   #_class method\n",
    "        cls.raise_amt= amount"
   ]
  },
  {
   "cell_type": "code",
   "execution_count": 33,
   "metadata": {},
   "outputs": [
    {
     "name": "stdout",
     "output_type": "stream",
     "text": [
      "1.04\n",
      "1.04\n",
      "1.04\n"
     ]
    }
   ],
   "source": [
    "emp_1=Employee(\"Danish\",\"Anwer\",20000,\"danish2562022@gmail.com\")\n",
    "emp_2=Employee(\"Sanketa\",\"Hegde\",30000,\"sanketahegde@gmail.com\")\n",
    "print(Employee.raise_amt)\n",
    "print(emp_1.raise_amt)\n",
    "print(emp_2.raise_amt)"
   ]
  },
  {
   "cell_type": "code",
   "execution_count": 34,
   "metadata": {},
   "outputs": [
    {
     "name": "stdout",
     "output_type": "stream",
     "text": [
      "1.05\n",
      "1.05\n",
      "1.05\n"
     ]
    }
   ],
   "source": [
    "Employee.set_raise_amt(1.05)\n",
    "print(Employee.raise_amt)\n",
    "print(emp_1.raise_amt)\n",
    "print(emp_2.raise_amt)"
   ]
  },
  {
   "cell_type": "code",
   "execution_count": 35,
   "metadata": {},
   "outputs": [
    {
     "name": "stdout",
     "output_type": "stream",
     "text": [
      "1.09\n",
      "1.09\n",
      "1.09\n"
     ]
    }
   ],
   "source": [
    "emp_1.set_raise_amt(1.09)\n",
    "print(Employee.raise_amt)\n",
    "print(emp_1.raise_amt)\n",
    "print(emp_2.raise_amt)"
   ]
  },
  {
   "cell_type": "code",
   "execution_count": 94,
   "metadata": {},
   "outputs": [],
   "source": [
    "# class method as an alternative constructor\n",
    "class Employee:\n",
    "    num_of_emp=0\n",
    "    raise_amt=1.04\n",
    "    def __init__(self,first,last,pay):\n",
    "        self.first=first\n",
    "        self.last=last\n",
    "        self.pay=pay\n",
    "        \n",
    "        Employee.num_of_emp+=1\n",
    "    def fullname(self):\n",
    "        return(self.first+\" \"+self.last)\n",
    "    \n",
    "    def apply_raise(self):\n",
    "        self.pay=int(self.pay*self.raise_amt)\n",
    "        \n",
    "    @classmethod    \n",
    "    def set_raise_amt(cls,amount):   #_class method\n",
    "        cls.raise_amt= amount\n",
    "        \n",
    "    @classmethod    \n",
    "    def from_string(cls,emp_str):\n",
    "        first,last,pay=emp_str.split('-')\n",
    "        #print(first)\n",
    "        return cls(first,last,pay)"
   ]
  },
  {
   "cell_type": "code",
   "execution_count": 95,
   "metadata": {},
   "outputs": [],
   "source": [
    "emp_str_1='danish-anwer-1000'\n",
    "emp_str_2='sanketa-hegde-2000'\n"
   ]
  },
  {
   "cell_type": "code",
   "execution_count": 96,
   "metadata": {},
   "outputs": [
    {
     "name": "stdout",
     "output_type": "stream",
     "text": [
      "danish\n",
      "1000\n"
     ]
    }
   ],
   "source": [
    "new_emp_1=Employee.from_string(emp_str_1)\n",
    "print(new_emp_1.first)\n",
    "print(new_emp_1.pay)"
   ]
  },
  {
   "cell_type": "code",
   "execution_count": 40,
   "metadata": {},
   "outputs": [],
   "source": [
    "# static method\n",
    "import datetime\n",
    "class Employee:\n",
    "    num_of_emp=0\n",
    "    raise_amt=1.04\n",
    "    def __init__(self,first,last,pay,email):\n",
    "        self.first=first\n",
    "        self.last=last\n",
    "        self.pay=pay\n",
    "        self.email=email\n",
    "        \n",
    "        Employee.num_of_emp+=1\n",
    "    def fullname(self):\n",
    "        return(self.first+\" \"+self.last)\n",
    "    \n",
    "    def apply_raise(self):\n",
    "        self.pay=int(self.pay*self.raise_amt)\n",
    "        \n",
    "    @classmethod    \n",
    "    def set_raise_amt(cls,amount):   #_class method\n",
    "        cls.raise_amt= amount\n",
    "        \n",
    "    @classmethod    \n",
    "    def from_string(cls,emp_str):\n",
    "        first,last,pay=emp_str.split('-')\n",
    "        #print(first)\n",
    "        return cls(first,last,pay)\n",
    "    \n",
    "    @staticmethod\n",
    "    def is_workday(day):\n",
    "        if day.weekday()==5 or day.weekday()==6:\n",
    "            return False\n",
    "        return True"
   ]
  },
  {
   "cell_type": "code",
   "execution_count": 41,
   "metadata": {},
   "outputs": [
    {
     "name": "stdout",
     "output_type": "stream",
     "text": [
      "False\n"
     ]
    }
   ],
   "source": [
    "emp_1=Employee(\"Danish\",\"Anwer\",20000,\"danish2562022@gmail.com\")\n",
    "emp_2=Employee(\"Sanketa\",\"Hegde\",30000,\"sanketahegde@gmail.com\")\n",
    "\n",
    "my_date=datetime.date(2016,7,10)\n",
    "print(Employee.is_workday(my_date))"
   ]
  },
  {
   "cell_type": "code",
   "execution_count": 42,
   "metadata": {},
   "outputs": [
    {
     "name": "stdout",
     "output_type": "stream",
     "text": [
      "True\n"
     ]
    }
   ],
   "source": [
    "my_date=datetime.date(2016,7,11)\n",
    "print(Employee.is_workday(my_date))"
   ]
  },
  {
   "cell_type": "markdown",
   "metadata": {},
   "source": [
    "## Inheritance"
   ]
  },
  {
   "cell_type": "code",
   "execution_count": 43,
   "metadata": {},
   "outputs": [],
   "source": [
    "class Employee:\n",
    "    raise_amount=1.04\n",
    "    def __init__(self,first,last,pay,email):\n",
    "        self.first=first\n",
    "        self.last=last\n",
    "        self.pay=pay\n",
    "        self.email=email\n",
    "        \n",
    "    def fullname(self):\n",
    "        return(self.first+\" \"+self.last)\n",
    "    \n",
    "    def apply_raise(self):\n",
    "        self.pay=int(self.pay*self.raise_amount)\n",
    "        \n",
    "    "
   ]
  },
  {
   "cell_type": "code",
   "execution_count": 44,
   "metadata": {},
   "outputs": [],
   "source": [
    "class Developer(Employee):\n",
    "    pass"
   ]
  },
  {
   "cell_type": "code",
   "execution_count": 47,
   "metadata": {},
   "outputs": [],
   "source": [
    "dev_1=Developer(\"Danish\",\"Anwer\",20000,\"danish@gmail.com\")\n",
    "dev_2=Developer(\"Danish2\",\"Anwer2\",30000,\"danish2@gmail.com\")"
   ]
  },
  {
   "cell_type": "code",
   "execution_count": 48,
   "metadata": {},
   "outputs": [
    {
     "name": "stdout",
     "output_type": "stream",
     "text": [
      "danish@gmail.com\n"
     ]
    }
   ],
   "source": [
    "print(dev_1.email)"
   ]
  },
  {
   "cell_type": "code",
   "execution_count": 49,
   "metadata": {},
   "outputs": [
    {
     "name": "stdout",
     "output_type": "stream",
     "text": [
      "Help on class Developer in module __main__:\n",
      "\n",
      "class Developer(Employee)\n",
      " |  Developer(first, last, pay, email)\n",
      " |  \n",
      " |  Method resolution order:\n",
      " |      Developer\n",
      " |      Employee\n",
      " |      builtins.object\n",
      " |  \n",
      " |  Methods inherited from Employee:\n",
      " |  \n",
      " |  __init__(self, first, last, pay, email)\n",
      " |      Initialize self.  See help(type(self)) for accurate signature.\n",
      " |  \n",
      " |  apply_raise(self)\n",
      " |  \n",
      " |  fullname(self)\n",
      " |  \n",
      " |  ----------------------------------------------------------------------\n",
      " |  Data descriptors inherited from Employee:\n",
      " |  \n",
      " |  __dict__\n",
      " |      dictionary for instance variables (if defined)\n",
      " |  \n",
      " |  __weakref__\n",
      " |      list of weak references to the object (if defined)\n",
      " |  \n",
      " |  ----------------------------------------------------------------------\n",
      " |  Data and other attributes inherited from Employee:\n",
      " |  \n",
      " |  raise_amount = 1.04\n",
      "\n",
      "None\n"
     ]
    }
   ],
   "source": [
    "print(help(Developer))"
   ]
  },
  {
   "cell_type": "code",
   "execution_count": 50,
   "metadata": {},
   "outputs": [
    {
     "name": "stdout",
     "output_type": "stream",
     "text": [
      "20000\n",
      "20800\n"
     ]
    }
   ],
   "source": [
    "print(dev_1.pay)\n",
    "dev_1.apply_raise()\n",
    "print(dev_1.pay)"
   ]
  },
  {
   "cell_type": "code",
   "execution_count": 51,
   "metadata": {},
   "outputs": [],
   "source": [
    "class Employee:\n",
    "    raise_amount=1.04\n",
    "    def __init__(self,first,last,pay,email):\n",
    "        self.first=first\n",
    "        self.last=last\n",
    "        self.pay=pay\n",
    "        self.email=email\n",
    "        \n",
    "    def fullname(self):\n",
    "        return(self.first+\" \"+self.last)\n",
    "    \n",
    "    def apply_raise(self):\n",
    "        self.pay=int(self.pay*self.raise_amount)"
   ]
  },
  {
   "cell_type": "code",
   "execution_count": 54,
   "metadata": {},
   "outputs": [],
   "source": [
    "class Developer(Employee):\n",
    "    raise_amount=1.10"
   ]
  },
  {
   "cell_type": "code",
   "execution_count": 57,
   "metadata": {},
   "outputs": [
    {
     "name": "stdout",
     "output_type": "stream",
     "text": [
      "20000\n",
      "22000\n"
     ]
    }
   ],
   "source": [
    "dev_1=Developer(\"Danish\",\"Anwer\",20000,\"danish@gmail.com\")\n",
    "dev_2=Developer(\"Danish2\",\"Anwer2\",30000,\"danish2@gmail.com\")\n",
    "print(dev_1.pay)\n",
    "dev_1.apply_raise()\n",
    "print(dev_1.pay)"
   ]
  },
  {
   "cell_type": "code",
   "execution_count": 60,
   "metadata": {},
   "outputs": [],
   "source": [
    "class Developer(Employee):\n",
    "    raise_amount=1.10\n",
    "    \n",
    "    def __init__(self,first,last,pay,email,prog_lang):\n",
    "        super().__init__(first,last,pay,email)\n",
    "        # Employee.__init__(Self,first,last,pay)\n",
    "        self.prog_lang=prog_lang"
   ]
  },
  {
   "cell_type": "code",
   "execution_count": 61,
   "metadata": {},
   "outputs": [],
   "source": [
    "dev_1=Developer(\"Danish\",\"Anwer\",20000,\"danish@gmail.com\",\"Java\")\n",
    "dev_2=Developer(\"Danish2\",\"Anwer2\",30000,\"danish2@gmail.com\",\"Python\")"
   ]
  },
  {
   "cell_type": "code",
   "execution_count": 62,
   "metadata": {},
   "outputs": [
    {
     "name": "stdout",
     "output_type": "stream",
     "text": [
      "danish@gmail.com\n",
      "Java\n",
      "danish2@gmail.com\n",
      "Python\n"
     ]
    }
   ],
   "source": [
    "print(dev_1.email)\n",
    "print(dev_1.prog_lang)\n",
    "\n",
    "print(dev_2.email)\n",
    "print(dev_2.prog_lang)"
   ]
  },
  {
   "cell_type": "code",
   "execution_count": 69,
   "metadata": {},
   "outputs": [],
   "source": [
    "class Manager(Employee):\n",
    "    \n",
    "     def __init__(self,first,last,pay,email,employees=None):\n",
    "        super().__init__(first,last,pay,email)\n",
    "        # Employee.__init__(Self,first,last,pay)\n",
    "        if employees is None:\n",
    "            self.employees=[]\n",
    "        else:\n",
    "            self.employees=employees\n",
    "            \n",
    "     def add_emp(self,emp):\n",
    "        if emp not in self.employees:\n",
    "            self.employees.append(emp)\n",
    "     def remove_emp(self,emp):\n",
    "        if emp in self.employees:\n",
    "            self.employees.remove(emp)\n",
    "            \n",
    "     def print_emps(self):\n",
    "        for emp in self.employees:\n",
    "            print(emp.fullname())\n",
    "            "
   ]
  },
  {
   "cell_type": "code",
   "execution_count": 72,
   "metadata": {},
   "outputs": [],
   "source": [
    "mgr_1=Manager(\"Sue\",\"Smith\",90000,\"sui@gmail.com\",[dev_1])"
   ]
  },
  {
   "cell_type": "code",
   "execution_count": 73,
   "metadata": {},
   "outputs": [
    {
     "name": "stdout",
     "output_type": "stream",
     "text": [
      "sui@gmail.com\n"
     ]
    }
   ],
   "source": [
    "print(mgr_1.email)"
   ]
  },
  {
   "cell_type": "code",
   "execution_count": 74,
   "metadata": {},
   "outputs": [
    {
     "name": "stdout",
     "output_type": "stream",
     "text": [
      "Danish Anwer\n"
     ]
    }
   ],
   "source": [
    "mgr_1.print_emps()"
   ]
  },
  {
   "cell_type": "code",
   "execution_count": 75,
   "metadata": {},
   "outputs": [],
   "source": [
    "mgr_1.add_emp(dev_2)"
   ]
  },
  {
   "cell_type": "code",
   "execution_count": 76,
   "metadata": {},
   "outputs": [
    {
     "name": "stdout",
     "output_type": "stream",
     "text": [
      "Danish Anwer\n",
      "Danish2 Anwer2\n"
     ]
    }
   ],
   "source": [
    "mgr_1.print_emps()"
   ]
  },
  {
   "cell_type": "code",
   "execution_count": 78,
   "metadata": {},
   "outputs": [],
   "source": [
    "mgr_1.remove_emp(dev_1)"
   ]
  },
  {
   "cell_type": "code",
   "execution_count": 79,
   "metadata": {},
   "outputs": [
    {
     "name": "stdout",
     "output_type": "stream",
     "text": [
      "Danish2 Anwer2\n"
     ]
    }
   ],
   "source": [
    "mgr_1.print_emps()"
   ]
  },
  {
   "cell_type": "code",
   "execution_count": 80,
   "metadata": {},
   "outputs": [
    {
     "data": {
      "text/plain": [
       "True"
      ]
     },
     "execution_count": 80,
     "metadata": {},
     "output_type": "execute_result"
    }
   ],
   "source": [
    "isinstance(mgr_1,Manager)"
   ]
  },
  {
   "cell_type": "code",
   "execution_count": 81,
   "metadata": {},
   "outputs": [
    {
     "data": {
      "text/plain": [
       "True"
      ]
     },
     "execution_count": 81,
     "metadata": {},
     "output_type": "execute_result"
    }
   ],
   "source": [
    "isinstance(mgr_1,Employee)"
   ]
  },
  {
   "cell_type": "code",
   "execution_count": 82,
   "metadata": {},
   "outputs": [
    {
     "data": {
      "text/plain": [
       "False"
      ]
     },
     "execution_count": 82,
     "metadata": {},
     "output_type": "execute_result"
    }
   ],
   "source": [
    "isinstance(mgr_1,Developer)"
   ]
  },
  {
   "cell_type": "code",
   "execution_count": 83,
   "metadata": {},
   "outputs": [
    {
     "data": {
      "text/plain": [
       "True"
      ]
     },
     "execution_count": 83,
     "metadata": {},
     "output_type": "execute_result"
    }
   ],
   "source": [
    "issubclass(Manager,Employee)"
   ]
  },
  {
   "cell_type": "code",
   "execution_count": 84,
   "metadata": {},
   "outputs": [
    {
     "data": {
      "text/plain": [
       "True"
      ]
     },
     "execution_count": 84,
     "metadata": {},
     "output_type": "execute_result"
    }
   ],
   "source": [
    "issubclass(Developer,Employee)"
   ]
  },
  {
   "cell_type": "code",
   "execution_count": 85,
   "metadata": {},
   "outputs": [
    {
     "data": {
      "text/plain": [
       "True"
      ]
     },
     "execution_count": 85,
     "metadata": {},
     "output_type": "execute_result"
    }
   ],
   "source": [
    "issubclass(Manager,Employee)"
   ]
  },
  {
   "cell_type": "markdown",
   "metadata": {},
   "source": [
    "### Magic Method"
   ]
  },
  {
   "cell_type": "code",
   "execution_count": 86,
   "metadata": {},
   "outputs": [
    {
     "name": "stdout",
     "output_type": "stream",
     "text": [
      "3\n",
      "ab\n"
     ]
    }
   ],
   "source": [
    "print(1+2)\n",
    "print(\"a\"+\"b\")"
   ]
  },
  {
   "cell_type": "code",
   "execution_count": 87,
   "metadata": {},
   "outputs": [
    {
     "name": "stdout",
     "output_type": "stream",
     "text": [
      "<__main__.Employee object at 0x000001CE40251A00>\n"
     ]
    }
   ],
   "source": [
    "print(emp_1)"
   ]
  },
  {
   "cell_type": "code",
   "execution_count": 96,
   "metadata": {},
   "outputs": [],
   "source": [
    "class Employee:\n",
    "    raise_amount=1.04\n",
    "    def __init__(self,first,last,pay,email):\n",
    "        self.first=first\n",
    "        self.last=last\n",
    "        self.pay=pay\n",
    "        self.email=email\n",
    "        \n",
    "    def fullname(self):\n",
    "        return(self.first+\" \"+self.last)\n",
    "    \n",
    "    def apply_raise(self):\n",
    "        self.pay=int(self.pay*self.raise_amount)\n",
    "        \n",
    "    def __repr__(self):\n",
    "        return(f\"Employee {self.first},{self.last}\")\n",
    "    #def __str__(Self):\n",
    "     #   pass"
   ]
  },
  {
   "cell_type": "code",
   "execution_count": 97,
   "metadata": {},
   "outputs": [
    {
     "name": "stdout",
     "output_type": "stream",
     "text": [
      "Employee Danish,Anwer\n"
     ]
    }
   ],
   "source": [
    "emp_1=Employee(\"Danish\",\"Anwer\",20000,\"danish2562022@gmail.com\")\n",
    "emp_2=Employee(\"Sanketa\",\"Hegde\",30000,\"sanketahegde@gmail.com\")\n",
    "print(emp_1)"
   ]
  },
  {
   "cell_type": "code",
   "execution_count": 104,
   "metadata": {},
   "outputs": [],
   "source": [
    "class Employee:\n",
    "    raise_amount=1.04\n",
    "    def __init__(self,first,last,pay,email):\n",
    "        self.first=first\n",
    "        self.last=last\n",
    "        self.pay=pay\n",
    "        self.email=email\n",
    "        \n",
    "    def fullname(self):\n",
    "        return(self.first+\" \"+self.last)\n",
    "    \n",
    "    def apply_raise(self):\n",
    "        self.pay=int(self.pay*self.raise_amount)\n",
    "        \n",
    "    def __repr__(self):\n",
    "        return(f\"Employee {self.first},{self.last}\")\n",
    "    \n",
    "    def __str__(self):\n",
    "        return(f\"{self.fullname()} {self.email}\")"
   ]
  },
  {
   "cell_type": "code",
   "execution_count": 105,
   "metadata": {},
   "outputs": [
    {
     "name": "stdout",
     "output_type": "stream",
     "text": [
      "Danish Anwer danish2562022@gmail.com\n"
     ]
    }
   ],
   "source": [
    "emp_1=Employee(\"Danish\",\"Anwer\",20000,\"danish2562022@gmail.com\")\n",
    "emp_2=Employee(\"Sanketa\",\"Hegde\",30000,\"sanketahegde@gmail.com\")\n",
    "print(emp_1)"
   ]
  },
  {
   "cell_type": "code",
   "execution_count": 106,
   "metadata": {},
   "outputs": [
    {
     "name": "stdout",
     "output_type": "stream",
     "text": [
      "Employee Danish,Anwer\n",
      "Danish Anwer danish2562022@gmail.com\n"
     ]
    }
   ],
   "source": [
    "emp_1=Employee(\"Danish\",\"Anwer\",20000,\"danish2562022@gmail.com\")\n",
    "emp_2=Employee(\"Sanketa\",\"Hegde\",30000,\"sanketahegde@gmail.com\")\n",
    "print(emp_1.__repr__())\n",
    "print(emp_1.__str__())"
   ]
  },
  {
   "cell_type": "code",
   "execution_count": 109,
   "metadata": {},
   "outputs": [],
   "source": [
    "class Employee:\n",
    "    raise_amount=1.04\n",
    "    def __init__(self,first,last,pay,email):\n",
    "        self.first=first\n",
    "        self.last=last\n",
    "        self.pay=pay\n",
    "        self.email=email\n",
    "        \n",
    "    def fullname(self):\n",
    "        return(self.first+\" \"+self.last)\n",
    "    \n",
    "    def apply_raise(self):\n",
    "        self.pay=int(self.pay*self.raise_amount)\n",
    "        \n",
    "    def __repr__(self):\n",
    "        return(f\"Employee {self.first},{self.last}\")\n",
    "    \n",
    "    def __str__(self):\n",
    "        return(f\"{self.fullname()} {self.email}\")\n",
    "    \n",
    "    def __add__(self,other):\n",
    "        return(self.pay+other.pay)"
   ]
  },
  {
   "cell_type": "code",
   "execution_count": 110,
   "metadata": {},
   "outputs": [
    {
     "name": "stdout",
     "output_type": "stream",
     "text": [
      "50000\n"
     ]
    }
   ],
   "source": [
    "emp_1=Employee(\"Danish\",\"Anwer\",20000,\"danish2562022@gmail.com\")\n",
    "emp_2=Employee(\"Sanketa\",\"Hegde\",30000,\"sanketahegde@gmail.com\")\n",
    "print(emp_1+emp_2)\n"
   ]
  },
  {
   "cell_type": "code",
   "execution_count": 113,
   "metadata": {},
   "outputs": [
    {
     "name": "stdout",
     "output_type": "stream",
     "text": [
      "6\n",
      "6\n"
     ]
    }
   ],
   "source": [
    "print(len(\"Danish\"))\n",
    "print(\"Danish\".__len__())"
   ]
  },
  {
   "cell_type": "code",
   "execution_count": 115,
   "metadata": {},
   "outputs": [],
   "source": [
    "class Employee:\n",
    "    raise_amount=1.04\n",
    "    def __init__(self,first,last,pay,email):\n",
    "        self.first=first\n",
    "        self.last=last\n",
    "        self.pay=pay\n",
    "        self.email=email\n",
    "        \n",
    "    def fullname(self):\n",
    "        return(self.first+\" \"+self.last)\n",
    "    \n",
    "    def apply_raise(self):\n",
    "        self.pay=int(self.pay*self.raise_amount)\n",
    "        \n",
    "    def __repr__(self):\n",
    "        return(f\"Employee {self.first},{self.last}\")\n",
    "    \n",
    "    def __str__(self):\n",
    "        return(f\"{self.fullname()} {self.email}\")\n",
    "    \n",
    "    def __add__(self,other):\n",
    "        return(self.pay+other.pay)\n",
    "    \n",
    "    def __len__(self):\n",
    "        return(len(self.fullname()))"
   ]
  },
  {
   "cell_type": "code",
   "execution_count": 116,
   "metadata": {},
   "outputs": [
    {
     "name": "stdout",
     "output_type": "stream",
     "text": [
      "12\n"
     ]
    }
   ],
   "source": [
    "emp_1=Employee(\"Danish\",\"Anwer\",20000,\"danish2562022@gmail.com\")\n",
    "emp_2=Employee(\"Sanketa\",\"Hegde\",30000,\"sanketahegde@gmail.com\")\n",
    "print(len(emp_1))"
   ]
  },
  {
   "cell_type": "code",
   "execution_count": null,
   "metadata": {},
   "outputs": [],
   "source": []
  }
 ],
 "metadata": {
  "kernelspec": {
   "display_name": "Python 3",
   "language": "python",
   "name": "python3"
  },
  "language_info": {
   "codemirror_mode": {
    "name": "ipython",
    "version": 3
   },
   "file_extension": ".py",
   "mimetype": "text/x-python",
   "name": "python",
   "nbconvert_exporter": "python",
   "pygments_lexer": "ipython3",
   "version": "3.8.3"
  }
 },
 "nbformat": 4,
 "nbformat_minor": 4
}
