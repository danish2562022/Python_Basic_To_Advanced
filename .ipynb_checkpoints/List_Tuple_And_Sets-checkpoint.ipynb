{
 "cells": [
  {
   "cell_type": "markdown",
   "metadata": {},
   "source": [
    "### List"
   ]
  },
  {
   "cell_type": "code",
   "execution_count": 46,
   "metadata": {},
   "outputs": [],
   "source": [
    "Li_Courses=[\"Statistics\",\"Linear ALgebra\",\"Graph theory\",\"Optimization techniques\"] # declaration of list"
   ]
  },
  {
   "cell_type": "code",
   "execution_count": 47,
   "metadata": {},
   "outputs": [
    {
     "name": "stdout",
     "output_type": "stream",
     "text": [
      "Linear ALgebra\n",
      "Optimization techniques\n",
      "['Statistics', 'Linear ALgebra']\n"
     ]
    }
   ],
   "source": [
    "# List indexing and slicing\n",
    "print(Li_Courses[1])\n",
    "print(Li_Courses[-1])\n",
    "print(Li_Courses[0:2])"
   ]
  },
  {
   "cell_type": "code",
   "execution_count": 48,
   "metadata": {},
   "outputs": [
    {
     "name": "stdout",
     "output_type": "stream",
     "text": [
      "['Statistics', 'Graph theory']\n",
      "['Linear ALgebra', 'Optimization techniques']\n"
     ]
    }
   ],
   "source": [
    "print(Li_Courses[0::2]) # Printing list values which are in odd place i.e 1st,3rd,5th....\n",
    "print(Li_Courses[1::2]) # Printing list values which are in even place i.e 2nd,4th,6th...."
   ]
  },
  {
   "cell_type": "code",
   "execution_count": 49,
   "metadata": {},
   "outputs": [
    {
     "name": "stdout",
     "output_type": "stream",
     "text": [
      "['Optimization techniques', 'Graph theory', 'Linear ALgebra', 'Statistics']\n"
     ]
    }
   ],
   "source": [
    "#list[start:end:step]\n",
    "print(Li_Courses[4::-1]) # Printing list in reverse order"
   ]
  },
  {
   "cell_type": "code",
   "execution_count": 53,
   "metadata": {},
   "outputs": [
    {
     "data": {
      "text/plain": [
       "['Statistics', 'Linear ALgebra', 'Graph theory', 'Optimization techniques']"
      ]
     },
     "execution_count": 53,
     "metadata": {},
     "output_type": "execute_result"
    }
   ],
   "source": [
    "Li_Courses"
   ]
  },
  {
   "cell_type": "code",
   "execution_count": 50,
   "metadata": {},
   "outputs": [
    {
     "data": {
      "text/plain": [
       "['Statistics', 'Linear ALgebra', 'Graph theory']"
      ]
     },
     "execution_count": 50,
     "metadata": {},
     "output_type": "execute_result"
    }
   ],
   "source": [
    "Li_Courses[:-1]"
   ]
  },
  {
   "cell_type": "code",
   "execution_count": 52,
   "metadata": {},
   "outputs": [
    {
     "data": {
      "text/plain": [
       "['Linear ALgebra', 'Graph theory']"
      ]
     },
     "execution_count": 52,
     "metadata": {},
     "output_type": "execute_result"
    }
   ],
   "source": [
    "Li_Courses[1:-1]"
   ]
  },
  {
   "cell_type": "code",
   "execution_count": 54,
   "metadata": {},
   "outputs": [
    {
     "name": "stdout",
     "output_type": "stream",
     "text": [
      "['Optimization techniques', 'Linear ALgebra']\n"
     ]
    }
   ],
   "source": [
    "print(Li_Courses[4::-2])"
   ]
  },
  {
   "cell_type": "code",
   "execution_count": 16,
   "metadata": {},
   "outputs": [
    {
     "name": "stdout",
     "output_type": "stream",
     "text": [
      "['__add__', '__class__', '__contains__', '__delattr__', '__delitem__', '__dir__', '__doc__', '__eq__', '__format__', '__ge__', '__getattribute__', '__getitem__', '__gt__', '__hash__', '__iadd__', '__imul__', '__init__', '__init_subclass__', '__iter__', '__le__', '__len__', '__lt__', '__mul__', '__ne__', '__new__', '__reduce__', '__reduce_ex__', '__repr__', '__reversed__', '__rmul__', '__setattr__', '__setitem__', '__sizeof__', '__str__', '__subclasshook__', 'append', 'clear', 'copy', 'count', 'extend', 'index', 'insert', 'pop', 'remove', 'reverse', 'sort']\n"
     ]
    }
   ],
   "source": [
    "print(dir(Li_Courses)) #All functions which can be performed on List data structures"
   ]
  },
  {
   "cell_type": "code",
   "execution_count": 18,
   "metadata": {},
   "outputs": [
    {
     "name": "stdout",
     "output_type": "stream",
     "text": [
      "['Statistics', 'Linear ALgebra', 'Graph theory', 'Optimization techniques', 'Numerical methods']\n"
     ]
    }
   ],
   "source": [
    "Li_Courses.append(\"Numerical methods\") # Appending list\n",
    "print(Li_Courses)"
   ]
  },
  {
   "cell_type": "code",
   "execution_count": 19,
   "metadata": {},
   "outputs": [
    {
     "name": "stdout",
     "output_type": "stream",
     "text": [
      "['Statistics', 'Linear ALgebra', 'Graph theory', 'Optimization techniques', 'Numerical methods', 'DBMS', 'O.S']\n"
     ]
    }
   ],
   "source": [
    "# Appending list on other list\n",
    "Li_Courses_2=[\"DBMS\",\"O.S\"]\n",
    "Li_Courses.extend(Li_Courses_2)\n",
    "print(Li_Courses)"
   ]
  },
  {
   "cell_type": "code",
   "execution_count": 20,
   "metadata": {},
   "outputs": [
    {
     "name": "stdout",
     "output_type": "stream",
     "text": [
      "['Statistics', 'Linear ALgebra', 'Graph theory', 'Optimization techniques', 'Digital Signal Processing', 'Numerical methods', 'DBMS', 'O.S']\n"
     ]
    }
   ],
   "source": [
    "# Inserting values in a given index\n",
    "Li_Courses.insert(4,\"Digital Signal Processing\")\n",
    "print(Li_Courses)"
   ]
  },
  {
   "cell_type": "code",
   "execution_count": 23,
   "metadata": {},
   "outputs": [
    {
     "name": "stdout",
     "output_type": "stream",
     "text": [
      "['Statistics', 'Linear ALgebra', 'Optimization techniques', 'Digital Signal Processing', 'DBMS', 'O.S']\n"
     ]
    }
   ],
   "source": [
    "# Removing values in List\n",
    "Li_Courses.remove(\"Graph theory\")\n",
    "print(Li_Courses)"
   ]
  },
  {
   "cell_type": "code",
   "execution_count": 24,
   "metadata": {},
   "outputs": [
    {
     "name": "stdout",
     "output_type": "stream",
     "text": [
      "Deleting value =O.S\n"
     ]
    }
   ],
   "source": [
    "# Removing list values and returning deleted values\n",
    "popped=Li_Courses.pop() #  Return and remove last value in the list\n",
    "print(f\"Deleting value ={popped}\" )"
   ]
  },
  {
   "cell_type": "code",
   "execution_count": 25,
   "metadata": {},
   "outputs": [],
   "source": [
    "Li_rank=[4,3,1,9,10]\n"
   ]
  },
  {
   "cell_type": "code",
   "execution_count": 27,
   "metadata": {},
   "outputs": [
    {
     "name": "stdout",
     "output_type": "stream",
     "text": [
      "10\n"
     ]
    }
   ],
   "source": [
    "print(max(Li_rank)) # printing maximum values in the List"
   ]
  },
  {
   "cell_type": "code",
   "execution_count": 29,
   "metadata": {},
   "outputs": [
    {
     "name": "stdout",
     "output_type": "stream",
     "text": [
      "27\n"
     ]
    }
   ],
   "source": [
    "print(sum(Li_rank)) # returning sum"
   ]
  },
  {
   "cell_type": "code",
   "execution_count": 31,
   "metadata": {},
   "outputs": [
    {
     "name": "stdout",
     "output_type": "stream",
     "text": [
      "[1, 3, 4, 9, 10]\n",
      "[4, 3, 1, 9, 10]\n"
     ]
    }
   ],
   "source": [
    "print(sorted(Li_rank)) # returning sorted list Note: Not inplace, By default: ASC\n",
    "print(Li_rank)"
   ]
  },
  {
   "cell_type": "code",
   "execution_count": 33,
   "metadata": {},
   "outputs": [
    {
     "name": "stdout",
     "output_type": "stream",
     "text": [
      "[1, 3, 4, 9, 10]\n"
     ]
    }
   ],
   "source": [
    "Li_rank.sort() # Sorting list Note: Inplace, By default: ASC\n",
    "print(Li_rank)"
   ]
  },
  {
   "cell_type": "code",
   "execution_count": 34,
   "metadata": {},
   "outputs": [
    {
     "name": "stdout",
     "output_type": "stream",
     "text": [
      "[10, 9, 4, 3, 1]\n"
     ]
    }
   ],
   "source": [
    "Li_rank.sort(reverse=True) # Sorting in descending order\n",
    "print(Li_rank)"
   ]
  },
  {
   "cell_type": "code",
   "execution_count": 36,
   "metadata": {},
   "outputs": [
    {
     "name": "stdout",
     "output_type": "stream",
     "text": [
      "Statistics-Linear ALgebra-Graph theory-Optimization techniques\n",
      "['Statistics', 'Linear ALgebra', 'Graph theory', 'Optimization techniques']\n"
     ]
    }
   ],
   "source": [
    "# List to string and string to list\n",
    "Li_Courses=[\"Statistics\",\"Linear ALgebra\",\"Graph theory\",\"Optimization techniques\"]\n",
    "Course_str='-'.join(Li_Courses) # List to string\n",
    "print(Course_str)\n",
    "\n",
    "List_Courses=Course_str.split(\"-\") # string to list\n",
    "print(List_Courses)"
   ]
  },
  {
   "cell_type": "markdown",
   "metadata": {},
   "source": [
    "### Tuple\n",
    "One major difference between list and tuple is list is mutable and tuple are immutable"
   ]
  },
  {
   "cell_type": "code",
   "execution_count": 37,
   "metadata": {},
   "outputs": [
    {
     "name": "stdout",
     "output_type": "stream",
     "text": [
      "[-20, 2, 3, 4]\n"
     ]
    }
   ],
   "source": [
    "Li_1=[1,2,3,4]\n",
    "Li_2=Li_1\n",
    "Li_2[0]=-20\n",
    "print(Li_1)"
   ]
  },
  {
   "cell_type": "markdown",
   "metadata": {},
   "source": [
    "-->Li_2 modification impacts Li_1 because they have a common address space.\n",
    "\n",
    "-->In the above code snippet, we can see that we are able to modify the list values after declaration."
   ]
  },
  {
   "cell_type": "code",
   "execution_count": 39,
   "metadata": {},
   "outputs": [
    {
     "ename": "TypeError",
     "evalue": "'tuple' object does not support item assignment",
     "output_type": "error",
     "traceback": [
      "\u001b[1;31m---------------------------------------------------------------------------\u001b[0m",
      "\u001b[1;31mTypeError\u001b[0m                                 Traceback (most recent call last)",
      "\u001b[1;32m<ipython-input-39-ad6c7f2eac07>\u001b[0m in \u001b[0;36m<module>\u001b[1;34m\u001b[0m\n\u001b[0;32m      1\u001b[0m \u001b[0mTu_1\u001b[0m\u001b[1;33m=\u001b[0m\u001b[1;33m(\u001b[0m\u001b[1;36m1\u001b[0m\u001b[1;33m,\u001b[0m\u001b[1;36m2\u001b[0m\u001b[1;33m,\u001b[0m\u001b[1;36m3\u001b[0m\u001b[1;33m,\u001b[0m\u001b[1;36m4\u001b[0m\u001b[1;33m)\u001b[0m\u001b[1;33m\u001b[0m\u001b[1;33m\u001b[0m\u001b[0m\n\u001b[0;32m      2\u001b[0m \u001b[0mTu_2\u001b[0m\u001b[1;33m=\u001b[0m\u001b[0mTu_1\u001b[0m\u001b[1;33m\u001b[0m\u001b[1;33m\u001b[0m\u001b[0m\n\u001b[1;32m----> 3\u001b[1;33m \u001b[0mTu_2\u001b[0m\u001b[1;33m[\u001b[0m\u001b[1;36m0\u001b[0m\u001b[1;33m]\u001b[0m\u001b[1;33m=\u001b[0m\u001b[1;33m-\u001b[0m\u001b[1;36m20\u001b[0m \u001b[1;31m# Tuples are immutable So, this will throw error\u001b[0m\u001b[1;33m\u001b[0m\u001b[1;33m\u001b[0m\u001b[0m\n\u001b[0m\u001b[0;32m      4\u001b[0m \u001b[0mprint\u001b[0m\u001b[1;33m(\u001b[0m\u001b[0mTu_1\u001b[0m\u001b[1;33m)\u001b[0m\u001b[1;33m\u001b[0m\u001b[1;33m\u001b[0m\u001b[0m\n",
      "\u001b[1;31mTypeError\u001b[0m: 'tuple' object does not support item assignment"
     ]
    }
   ],
   "source": [
    "Tu_1=(1,2,3,4)\n",
    "Tu_2=Tu_1\n",
    "Tu_2[0]=-20 # Tuples are immutable So, this will throw error\n",
    "print(Tu_1)\n"
   ]
  },
  {
   "cell_type": "markdown",
   "metadata": {},
   "source": [
    "### Set"
   ]
  },
  {
   "cell_type": "code",
   "execution_count": 45,
   "metadata": {},
   "outputs": [
    {
     "name": "stdout",
     "output_type": "stream",
     "text": [
      "<class 'dict'>\n",
      "<class 'set'>\n"
     ]
    }
   ],
   "source": [
    "Si_1={}  # Empty dict\n",
    "print(type(Si_1))\n",
    "Si_1=set() # This is the way to initialize empty set\n",
    "print(type(Si_1))"
   ]
  },
  {
   "cell_type": "code",
   "execution_count": 42,
   "metadata": {},
   "outputs": [
    {
     "name": "stdout",
     "output_type": "stream",
     "text": [
      "{1, 2, 3, 4}\n"
     ]
    }
   ],
   "source": [
    "Se_1={1,2,3,4,1}\n",
    "print(Se_1)\n",
    "Se_2={2,3,8,9}"
   ]
  },
  {
   "cell_type": "code",
   "execution_count": 41,
   "metadata": {},
   "outputs": [
    {
     "name": "stdout",
     "output_type": "stream",
     "text": [
      "True\n"
     ]
    }
   ],
   "source": [
    "print(1 in Se_1)"
   ]
  },
  {
   "cell_type": "code",
   "execution_count": 43,
   "metadata": {},
   "outputs": [
    {
     "name": "stdout",
     "output_type": "stream",
     "text": [
      "{2, 3}\n"
     ]
    }
   ],
   "source": [
    "print(Se_1.intersection(Se_2))"
   ]
  },
  {
   "cell_type": "code",
   "execution_count": 44,
   "metadata": {},
   "outputs": [
    {
     "name": "stdout",
     "output_type": "stream",
     "text": [
      "{1, 2, 3, 4, 8, 9}\n"
     ]
    }
   ],
   "source": [
    "print(Se_1.union(Se_2))"
   ]
  },
  {
   "cell_type": "markdown",
   "metadata": {},
   "source": [
    "### Sorting of List, Tuple and Dict"
   ]
  },
  {
   "cell_type": "code",
   "execution_count": 55,
   "metadata": {},
   "outputs": [
    {
     "name": "stdout",
     "output_type": "stream",
     "text": [
      "[-1, 0, 1, 2, 3, 6, 7]\n"
     ]
    }
   ],
   "source": [
    "Li=[3,6,7,2,1,0,-1]\n",
    "Sor_Li=sorted(Li) # Not inplace and ascending by default\n",
    "print(Sor_Li)  "
   ]
  },
  {
   "cell_type": "code",
   "execution_count": 56,
   "metadata": {},
   "outputs": [
    {
     "name": "stdout",
     "output_type": "stream",
     "text": [
      "[7, 6, 3, 2, 1, 0, -1]\n"
     ]
    }
   ],
   "source": [
    "Sor_Li=sorted(Li,reverse=True) # Not inplace and ascending by default\n",
    "print(Sor_Li) "
   ]
  },
  {
   "cell_type": "code",
   "execution_count": 58,
   "metadata": {},
   "outputs": [
    {
     "name": "stdout",
     "output_type": "stream",
     "text": [
      "[-1, 0, 1, 2, 3, 6, 7]\n"
     ]
    }
   ],
   "source": [
    "Li.sort()\n",
    "print(Li)"
   ]
  },
  {
   "cell_type": "code",
   "execution_count": 57,
   "metadata": {},
   "outputs": [
    {
     "ename": "AttributeError",
     "evalue": "'tuple' object has no attribute 'sort'",
     "output_type": "error",
     "traceback": [
      "\u001b[1;31m---------------------------------------------------------------------------\u001b[0m",
      "\u001b[1;31mAttributeError\u001b[0m                            Traceback (most recent call last)",
      "\u001b[1;32m<ipython-input-57-27d633abf3d7>\u001b[0m in \u001b[0;36m<module>\u001b[1;34m\u001b[0m\n\u001b[0;32m      1\u001b[0m \u001b[0mtu\u001b[0m\u001b[1;33m=\u001b[0m\u001b[1;33m(\u001b[0m\u001b[1;36m1\u001b[0m\u001b[1;33m,\u001b[0m\u001b[1;36m0\u001b[0m\u001b[1;33m,\u001b[0m\u001b[1;33m-\u001b[0m\u001b[1;36m1\u001b[0m\u001b[1;33m,\u001b[0m\u001b[1;33m-\u001b[0m\u001b[1;36m2\u001b[0m\u001b[1;33m)\u001b[0m\u001b[1;33m\u001b[0m\u001b[1;33m\u001b[0m\u001b[0m\n\u001b[1;32m----> 2\u001b[1;33m \u001b[0mtu\u001b[0m\u001b[1;33m.\u001b[0m\u001b[0msort\u001b[0m\u001b[1;33m(\u001b[0m\u001b[1;33m)\u001b[0m\u001b[1;33m\u001b[0m\u001b[1;33m\u001b[0m\u001b[0m\n\u001b[0m",
      "\u001b[1;31mAttributeError\u001b[0m: 'tuple' object has no attribute 'sort'"
     ]
    }
   ],
   "source": [
    "tu=(1,0,-1,-2)\n",
    "tu.sort()"
   ]
  },
  {
   "cell_type": "code",
   "execution_count": 61,
   "metadata": {},
   "outputs": [
    {
     "name": "stdout",
     "output_type": "stream",
     "text": [
      "['Age', 'name', 'occupation']\n"
     ]
    }
   ],
   "source": [
    "dic={\"name\":\"Danish\",\"Age\":25,\"occupation\":\"Student\"}\n",
    "sor_dic=sorted(dic)  # we get sorted list of keys\n",
    "print(sor_dic)"
   ]
  },
  {
   "cell_type": "code",
   "execution_count": 63,
   "metadata": {},
   "outputs": [
    {
     "name": "stdout",
     "output_type": "stream",
     "text": [
      "[-2, -1, 0, 1, 2, 3, 6, 7]\n",
      "[0, 1, -1, 2, -2, 3, 6, 7]\n"
     ]
    }
   ],
   "source": [
    "Li=[3,6,7,2,1,0,-1,-2]\n",
    "print(sorted(Li))\n",
    "print(sorted(Li,key=abs))\n"
   ]
  },
  {
   "cell_type": "code",
   "execution_count": 71,
   "metadata": {},
   "outputs": [],
   "source": [
    "class Employee():\n",
    "    def __init__(self,name,age,salary):\n",
    "        self.name=name\n",
    "        self.age=age\n",
    "        self.salary=salary\n",
    "        \n",
    "    def __repr__(self):\n",
    "        return(f\"{self.name},{self.age},{self.salary}$\")\n",
    "\n",
    "e1=Employee('Danish',25,2000)\n",
    "e2=Employee('Sanketa',35,3000)\n",
    "e3=Employee('Hari',45,4000)"
   ]
  },
  {
   "cell_type": "code",
   "execution_count": 73,
   "metadata": {},
   "outputs": [
    {
     "name": "stdout",
     "output_type": "stream",
     "text": [
      "[Danish,25,2000$, Sanketa,35,3000$, Hari,45,4000$]\n"
     ]
    }
   ],
   "source": [
    "Employees=[e1,e2,e3]\n",
    "print(Employees)"
   ]
  },
  {
   "cell_type": "code",
   "execution_count": 74,
   "metadata": {},
   "outputs": [],
   "source": [
    "def sort_emp(emp):\n",
    "    return emp.name\n",
    "\n",
    "S_employees=sorted(Employees,key=sort_emp)"
   ]
  },
  {
   "cell_type": "code",
   "execution_count": 76,
   "metadata": {},
   "outputs": [
    {
     "name": "stdout",
     "output_type": "stream",
     "text": [
      "[Danish,25,2000$, Hari,45,4000$, Sanketa,35,3000$]\n"
     ]
    }
   ],
   "source": [
    "print(S_employees)"
   ]
  },
  {
   "cell_type": "code",
   "execution_count": null,
   "metadata": {},
   "outputs": [],
   "source": []
  }
 ],
 "metadata": {
  "kernelspec": {
   "display_name": "Python 3",
   "language": "python",
   "name": "python3"
  },
  "language_info": {
   "codemirror_mode": {
    "name": "ipython",
    "version": 3
   },
   "file_extension": ".py",
   "mimetype": "text/x-python",
   "name": "python",
   "nbconvert_exporter": "python",
   "pygments_lexer": "ipython3",
   "version": "3.8.3"
  }
 },
 "nbformat": 4,
 "nbformat_minor": 4
}
