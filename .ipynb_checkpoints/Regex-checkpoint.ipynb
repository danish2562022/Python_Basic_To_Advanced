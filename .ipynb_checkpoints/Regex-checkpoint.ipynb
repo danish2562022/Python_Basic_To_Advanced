{
 "cells": [
  {
   "cell_type": "code",
   "execution_count": null,
   "metadata": {},
   "outputs": [],
   "source": [
    "\"\"\"\n",
    ".  - Any character except new line\n",
    "\\d - Digit (0-9)\n",
    "\\D - Not a Digit\n",
    "\\w - Word Character(a-z,A-Z,0-9,_)\n",
    "\\W - Not a word Character\n",
    "\\s - whitespace (space,tab,newline)\n",
    "\\S - Not Whitespace\n",
    "\\b- Word Boundary\n",
    "\\B - Not a Word boundary\n",
    "\n",
    "\n",
    "Anchors\n",
    "^  - Begiining of a string\n",
    "$  - End of a string\n",
    " \n",
    "\"\"\"\n",
    "\n",
    "\n"
   ]
  },
  {
   "cell_type": "code",
   "execution_count": 1,
   "metadata": {},
   "outputs": [],
   "source": [
    "import re"
   ]
  },
  {
   "cell_type": "code",
   "execution_count": 42,
   "metadata": {},
   "outputs": [],
   "source": [
    "doc=\"\"\"\n",
    "abcdefghijklmnop\n",
    "ABCDEFGHI123456789\n",
    "\n",
    "Danish\n",
    "Anwer\n",
    "91-225-8889\n",
    "danish.com\n",
    "\n",
    "Ha HaHa\n",
    "\n",
    "Mrs. Sanketa\n",
    "Miss. Sanketa\n",
    "123.456.789\n",
    "458-989-351\n",
    "-danish@gmail.com\n",
    "\"\"\""
   ]
  },
  {
   "cell_type": "code",
   "execution_count": 3,
   "metadata": {},
   "outputs": [
    {
     "name": "stdout",
     "output_type": "stream",
     "text": [
      "\tTab\n"
     ]
    }
   ],
   "source": [
    " print(\"\\tTab\")"
   ]
  },
  {
   "cell_type": "code",
   "execution_count": 4,
   "metadata": {},
   "outputs": [
    {
     "name": "stdout",
     "output_type": "stream",
     "text": [
      "\\tTab\n"
     ]
    }
   ],
   "source": [
    "print(r\"\\tTab\")"
   ]
  },
  {
   "cell_type": "code",
   "execution_count": 8,
   "metadata": {},
   "outputs": [
    {
     "name": "stdout",
     "output_type": "stream",
     "text": [
      "<re.Match object; span=(1, 4), match='abc'>\n"
     ]
    }
   ],
   "source": [
    "pattern=re.compile(r'abc')\n",
    "matches=pattern.finditer(doc)\n",
    "for match in matches:\n",
    "    print(match)"
   ]
  },
  {
   "cell_type": "code",
   "execution_count": 9,
   "metadata": {},
   "outputs": [
    {
     "name": "stdout",
     "output_type": "stream",
     "text": [
      "abc\n"
     ]
    }
   ],
   "source": [
    "print(doc[1:4])"
   ]
  },
  {
   "cell_type": "code",
   "execution_count": 12,
   "metadata": {},
   "outputs": [
    {
     "name": "stdout",
     "output_type": "stream",
     "text": [
      "<re.Match object; span=(1, 2), match='a'>\n",
      "<re.Match object; span=(2, 3), match='b'>\n",
      "<re.Match object; span=(3, 4), match='c'>\n",
      "<re.Match object; span=(4, 5), match='d'>\n",
      "<re.Match object; span=(5, 6), match='e'>\n",
      "<re.Match object; span=(6, 7), match='f'>\n",
      "<re.Match object; span=(7, 8), match='g'>\n",
      "<re.Match object; span=(8, 9), match='h'>\n",
      "<re.Match object; span=(9, 10), match='i'>\n",
      "<re.Match object; span=(10, 11), match='j'>\n",
      "<re.Match object; span=(11, 12), match='k'>\n",
      "<re.Match object; span=(12, 13), match='l'>\n",
      "<re.Match object; span=(13, 14), match='m'>\n",
      "<re.Match object; span=(14, 15), match='n'>\n",
      "<re.Match object; span=(15, 16), match='o'>\n",
      "<re.Match object; span=(16, 17), match='p'>\n",
      "<re.Match object; span=(18, 19), match='A'>\n",
      "<re.Match object; span=(19, 20), match='B'>\n",
      "<re.Match object; span=(20, 21), match='C'>\n",
      "<re.Match object; span=(21, 22), match='D'>\n",
      "<re.Match object; span=(22, 23), match='E'>\n",
      "<re.Match object; span=(23, 24), match='F'>\n",
      "<re.Match object; span=(24, 25), match='G'>\n",
      "<re.Match object; span=(25, 26), match='H'>\n",
      "<re.Match object; span=(26, 27), match='I'>\n",
      "<re.Match object; span=(27, 28), match='1'>\n",
      "<re.Match object; span=(28, 29), match='2'>\n",
      "<re.Match object; span=(29, 30), match='3'>\n",
      "<re.Match object; span=(30, 31), match='4'>\n",
      "<re.Match object; span=(31, 32), match='5'>\n",
      "<re.Match object; span=(32, 33), match='6'>\n",
      "<re.Match object; span=(33, 34), match='7'>\n",
      "<re.Match object; span=(34, 35), match='8'>\n",
      "<re.Match object; span=(35, 36), match='9'>\n",
      "<re.Match object; span=(38, 39), match='D'>\n",
      "<re.Match object; span=(39, 40), match='a'>\n",
      "<re.Match object; span=(40, 41), match='n'>\n",
      "<re.Match object; span=(41, 42), match='i'>\n",
      "<re.Match object; span=(42, 43), match='s'>\n",
      "<re.Match object; span=(43, 44), match='h'>\n",
      "<re.Match object; span=(45, 46), match='A'>\n",
      "<re.Match object; span=(46, 47), match='n'>\n",
      "<re.Match object; span=(47, 48), match='w'>\n",
      "<re.Match object; span=(48, 49), match='e'>\n",
      "<re.Match object; span=(49, 50), match='r'>\n",
      "<re.Match object; span=(51, 52), match='9'>\n",
      "<re.Match object; span=(52, 53), match='1'>\n",
      "<re.Match object; span=(53, 54), match='-'>\n",
      "<re.Match object; span=(54, 55), match='2'>\n",
      "<re.Match object; span=(55, 56), match='2'>\n",
      "<re.Match object; span=(56, 57), match='5'>\n",
      "<re.Match object; span=(57, 58), match='-'>\n",
      "<re.Match object; span=(58, 59), match='8'>\n",
      "<re.Match object; span=(59, 60), match='8'>\n",
      "<re.Match object; span=(60, 61), match='8'>\n",
      "<re.Match object; span=(61, 62), match='9'>\n",
      "<re.Match object; span=(64, 65), match='M'>\n",
      "<re.Match object; span=(65, 66), match='r'>\n",
      "<re.Match object; span=(66, 67), match='s'>\n",
      "<re.Match object; span=(67, 68), match='.'>\n",
      "<re.Match object; span=(68, 69), match=' '>\n",
      "<re.Match object; span=(69, 70), match='S'>\n",
      "<re.Match object; span=(70, 71), match='a'>\n",
      "<re.Match object; span=(71, 72), match='n'>\n",
      "<re.Match object; span=(72, 73), match='k'>\n",
      "<re.Match object; span=(73, 74), match='e'>\n",
      "<re.Match object; span=(74, 75), match='t'>\n",
      "<re.Match object; span=(75, 76), match='a'>\n",
      "<re.Match object; span=(77, 78), match='M'>\n",
      "<re.Match object; span=(78, 79), match='i'>\n",
      "<re.Match object; span=(79, 80), match='s'>\n",
      "<re.Match object; span=(80, 81), match='s'>\n",
      "<re.Match object; span=(81, 82), match='.'>\n",
      "<re.Match object; span=(82, 83), match=' '>\n",
      "<re.Match object; span=(83, 84), match='S'>\n",
      "<re.Match object; span=(84, 85), match='a'>\n",
      "<re.Match object; span=(85, 86), match='n'>\n",
      "<re.Match object; span=(86, 87), match='k'>\n",
      "<re.Match object; span=(87, 88), match='e'>\n",
      "<re.Match object; span=(88, 89), match='t'>\n",
      "<re.Match object; span=(89, 90), match='a'>\n",
      "<re.Match object; span=(91, 92), match='1'>\n",
      "<re.Match object; span=(92, 93), match='2'>\n",
      "<re.Match object; span=(93, 94), match='3'>\n",
      "<re.Match object; span=(94, 95), match='.'>\n",
      "<re.Match object; span=(95, 96), match='4'>\n",
      "<re.Match object; span=(96, 97), match='5'>\n",
      "<re.Match object; span=(97, 98), match='6'>\n",
      "<re.Match object; span=(98, 99), match='.'>\n",
      "<re.Match object; span=(99, 100), match='7'>\n",
      "<re.Match object; span=(100, 101), match='8'>\n",
      "<re.Match object; span=(101, 102), match='9'>\n",
      "<re.Match object; span=(103, 104), match='d'>\n",
      "<re.Match object; span=(104, 105), match='a'>\n",
      "<re.Match object; span=(105, 106), match='n'>\n",
      "<re.Match object; span=(106, 107), match='i'>\n",
      "<re.Match object; span=(107, 108), match='s'>\n",
      "<re.Match object; span=(108, 109), match='h'>\n",
      "<re.Match object; span=(109, 110), match='@'>\n",
      "<re.Match object; span=(110, 111), match='g'>\n",
      "<re.Match object; span=(111, 112), match='m'>\n",
      "<re.Match object; span=(112, 113), match='a'>\n",
      "<re.Match object; span=(113, 114), match='i'>\n",
      "<re.Match object; span=(114, 115), match='l'>\n",
      "<re.Match object; span=(115, 116), match='.'>\n",
      "<re.Match object; span=(116, 117), match='c'>\n",
      "<re.Match object; span=(117, 118), match='o'>\n",
      "<re.Match object; span=(118, 119), match='m'>\n"
     ]
    }
   ],
   "source": [
    "pattern=re.compile(r'.')\n",
    "matches=pattern.finditer(doc)\n",
    "for match in matches:\n",
    "    print(match)"
   ]
  },
  {
   "cell_type": "code",
   "execution_count": 14,
   "metadata": {},
   "outputs": [
    {
     "name": "stdout",
     "output_type": "stream",
     "text": [
      "<re.Match object; span=(67, 68), match='.'>\n",
      "<re.Match object; span=(81, 82), match='.'>\n",
      "<re.Match object; span=(94, 95), match='.'>\n",
      "<re.Match object; span=(98, 99), match='.'>\n",
      "<re.Match object; span=(115, 116), match='.'>\n"
     ]
    }
   ],
   "source": [
    "pattern=re.compile(r'\\.')\n",
    "matches=pattern.finditer(doc)\n",
    "for match in matches:\n",
    "    print(match)"
   ]
  },
  {
   "cell_type": "code",
   "execution_count": 18,
   "metadata": {},
   "outputs": [
    {
     "name": "stdout",
     "output_type": "stream",
     "text": [
      "<re.Match object; span=(63, 73), match='danish.com'>\n"
     ]
    }
   ],
   "source": [
    "pattern=re.compile(r'danish\\.com')\n",
    "matches=pattern.finditer(doc)\n",
    "for match in matches:\n",
    "    print(match)"
   ]
  },
  {
   "cell_type": "code",
   "execution_count": 19,
   "metadata": {},
   "outputs": [
    {
     "data": {
      "text/plain": [
       "'\\n.  - Any character except new line\\n\\\\d - Digit (0-9)\\n\\\\D - Not a Digit\\n\\\\w - Word Character(a-z,A-Z,0-9,_)\\n\\\\W - Not a word Character\\n\\\\s - whitespace (space,tab,newline)\\n\\\\S - Not Whitespace\\n\\x08- Word Boundary\\n\\n\\n'"
      ]
     },
     "execution_count": 19,
     "metadata": {},
     "output_type": "execute_result"
    }
   ],
   "source": []
  },
  {
   "cell_type": "code",
   "execution_count": 20,
   "metadata": {},
   "outputs": [
    {
     "name": "stdout",
     "output_type": "stream",
     "text": [
      "<re.Match object; span=(27, 28), match='1'>\n",
      "<re.Match object; span=(28, 29), match='2'>\n",
      "<re.Match object; span=(29, 30), match='3'>\n",
      "<re.Match object; span=(30, 31), match='4'>\n",
      "<re.Match object; span=(31, 32), match='5'>\n",
      "<re.Match object; span=(32, 33), match='6'>\n",
      "<re.Match object; span=(33, 34), match='7'>\n",
      "<re.Match object; span=(34, 35), match='8'>\n",
      "<re.Match object; span=(35, 36), match='9'>\n",
      "<re.Match object; span=(51, 52), match='9'>\n",
      "<re.Match object; span=(52, 53), match='1'>\n",
      "<re.Match object; span=(54, 55), match='2'>\n",
      "<re.Match object; span=(55, 56), match='2'>\n",
      "<re.Match object; span=(56, 57), match='5'>\n",
      "<re.Match object; span=(58, 59), match='8'>\n",
      "<re.Match object; span=(59, 60), match='8'>\n",
      "<re.Match object; span=(60, 61), match='8'>\n",
      "<re.Match object; span=(61, 62), match='9'>\n",
      "<re.Match object; span=(101, 102), match='1'>\n",
      "<re.Match object; span=(102, 103), match='2'>\n",
      "<re.Match object; span=(103, 104), match='3'>\n",
      "<re.Match object; span=(105, 106), match='4'>\n",
      "<re.Match object; span=(106, 107), match='5'>\n",
      "<re.Match object; span=(107, 108), match='6'>\n",
      "<re.Match object; span=(109, 110), match='7'>\n",
      "<re.Match object; span=(110, 111), match='8'>\n",
      "<re.Match object; span=(111, 112), match='9'>\n"
     ]
    }
   ],
   "source": [
    "pattern=re.compile(r'\\d')\n",
    "matches=pattern.finditer(doc)\n",
    "for match in matches:\n",
    "    print(match)"
   ]
  },
  {
   "cell_type": "code",
   "execution_count": 21,
   "metadata": {},
   "outputs": [
    {
     "name": "stdout",
     "output_type": "stream",
     "text": [
      "<re.Match object; span=(0, 1), match='\\n'>\n",
      "<re.Match object; span=(17, 18), match='\\n'>\n",
      "<re.Match object; span=(36, 37), match='\\n'>\n",
      "<re.Match object; span=(37, 38), match='\\n'>\n",
      "<re.Match object; span=(44, 45), match='\\n'>\n",
      "<re.Match object; span=(50, 51), match='\\n'>\n",
      "<re.Match object; span=(53, 54), match='-'>\n",
      "<re.Match object; span=(57, 58), match='-'>\n",
      "<re.Match object; span=(62, 63), match='\\n'>\n",
      "<re.Match object; span=(69, 70), match='.'>\n",
      "<re.Match object; span=(73, 74), match='\\n'>\n",
      "<re.Match object; span=(77, 78), match='.'>\n",
      "<re.Match object; span=(78, 79), match=' '>\n",
      "<re.Match object; span=(86, 87), match='\\n'>\n",
      "<re.Match object; span=(91, 92), match='.'>\n",
      "<re.Match object; span=(92, 93), match=' '>\n",
      "<re.Match object; span=(100, 101), match='\\n'>\n",
      "<re.Match object; span=(104, 105), match='.'>\n",
      "<re.Match object; span=(108, 109), match='.'>\n",
      "<re.Match object; span=(112, 113), match='\\n'>\n",
      "<re.Match object; span=(119, 120), match='@'>\n",
      "<re.Match object; span=(125, 126), match='.'>\n",
      "<re.Match object; span=(129, 130), match='\\n'>\n"
     ]
    }
   ],
   "source": [
    "pattern=re.compile(r'\\W')\n",
    "matches=pattern.finditer(doc)\n",
    "for match in matches:\n",
    "    print(match)"
   ]
  },
  {
   "cell_type": "code",
   "execution_count": 24,
   "metadata": {},
   "outputs": [
    {
     "name": "stdout",
     "output_type": "stream",
     "text": [
      "<re.Match object; span=(75, 77), match='Ha'>\n",
      "<re.Match object; span=(78, 80), match='Ha'>\n"
     ]
    }
   ],
   "source": [
    "pattern=re.compile(r'\\bHa')\n",
    "matches=pattern.finditer(doc)\n",
    "for match in matches:\n",
    "    print(match)"
   ]
  },
  {
   "cell_type": "code",
   "execution_count": 25,
   "metadata": {},
   "outputs": [
    {
     "name": "stdout",
     "output_type": "stream",
     "text": [
      "<re.Match object; span=(80, 82), match='Ha'>\n"
     ]
    }
   ],
   "source": [
    "pattern=re.compile(r'\\BHa')\n",
    "matches=pattern.finditer(doc)\n",
    "for match in matches:\n",
    "    print(match)"
   ]
  },
  {
   "cell_type": "code",
   "execution_count": 27,
   "metadata": {},
   "outputs": [
    {
     "name": "stdout",
     "output_type": "stream",
     "text": [
      "<re.Match object; span=(0, 5), match='Start'>\n"
     ]
    }
   ],
   "source": [
    "sentence=\"Start a sentence and then bring it to an end \"\n",
    "\n",
    "pattern=re.compile(r'^Start')\n",
    "matches=pattern.finditer(sentence)\n",
    "for match in matches:\n",
    "    print(match)"
   ]
  },
  {
   "cell_type": "code",
   "execution_count": 28,
   "metadata": {},
   "outputs": [],
   "source": [
    "sentence=\"Start a sentence and then bring it to an end \"\n",
    "\n",
    "pattern=re.compile(r'^and')\n",
    "matches=pattern.finditer(sentence)\n",
    "for match in matches:\n",
    "    print(match)"
   ]
  },
  {
   "cell_type": "code",
   "execution_count": 32,
   "metadata": {},
   "outputs": [
    {
     "name": "stdout",
     "output_type": "stream",
     "text": [
      "<re.Match object; span=(41, 44), match='end'>\n"
     ]
    }
   ],
   "source": [
    "sentence=\"Start a sentence and then bring it to an end\"\n",
    "\n",
    "pattern=re.compile(r'end$')\n",
    "matches=pattern.finditer(sentence)\n",
    "for match in matches:\n",
    "    print(match)"
   ]
  },
  {
   "cell_type": "code",
   "execution_count": 33,
   "metadata": {},
   "outputs": [],
   "source": [
    "\n",
    "\n",
    "pattern=re.compile(r'end$')\n",
    "matches=pattern.finditer(doc)\n",
    "for match in matches:\n",
    "    print(match)"
   ]
  },
  {
   "cell_type": "code",
   "execution_count": 34,
   "metadata": {},
   "outputs": [
    {
     "data": {
      "text/plain": [
       "'\\nMeta Character\\n\\n.  - \\n\\n^\\n\\n$\\n\\n*\\n\\n+\\n\\n?\\n\\n{\\n\\n}\\n\\n[\\n\\n]\\n\\n\\n|\\n\\n(\\n\\n)\\n'"
      ]
     },
     "execution_count": 34,
     "metadata": {},
     "output_type": "execute_result"
    }
   ],
   "source": [
    "\"\"\"\n",
    "Meta Character\n",
    "\n",
    ".  - \n",
    "\n",
    "^\n",
    "\n",
    "$\n",
    "\n",
    "*\n",
    "\n",
    "+\n",
    "\n",
    "?\n",
    "\n",
    "{\n",
    "\n",
    "}\n",
    "\n",
    "[\n",
    "\n",
    "]\n",
    "\n",
    "\\\n",
    "\n",
    "|\n",
    "\n",
    "(\n",
    "\n",
    ")\n",
    "\"\"\""
   ]
  },
  {
   "cell_type": "code",
   "execution_count": 35,
   "metadata": {},
   "outputs": [
    {
     "name": "stdout",
     "output_type": "stream",
     "text": [
      "<re.Match object; span=(27, 28), match='1'>\n",
      "<re.Match object; span=(28, 29), match='2'>\n",
      "<re.Match object; span=(29, 30), match='3'>\n",
      "<re.Match object; span=(30, 31), match='4'>\n",
      "<re.Match object; span=(31, 32), match='5'>\n",
      "<re.Match object; span=(32, 33), match='6'>\n",
      "<re.Match object; span=(33, 34), match='7'>\n",
      "<re.Match object; span=(34, 35), match='8'>\n",
      "<re.Match object; span=(35, 36), match='9'>\n",
      "<re.Match object; span=(51, 52), match='9'>\n",
      "<re.Match object; span=(52, 53), match='1'>\n",
      "<re.Match object; span=(54, 55), match='2'>\n",
      "<re.Match object; span=(55, 56), match='2'>\n",
      "<re.Match object; span=(56, 57), match='5'>\n",
      "<re.Match object; span=(58, 59), match='8'>\n",
      "<re.Match object; span=(59, 60), match='8'>\n",
      "<re.Match object; span=(60, 61), match='8'>\n",
      "<re.Match object; span=(61, 62), match='9'>\n",
      "<re.Match object; span=(111, 112), match='1'>\n",
      "<re.Match object; span=(112, 113), match='2'>\n",
      "<re.Match object; span=(113, 114), match='3'>\n",
      "<re.Match object; span=(115, 116), match='4'>\n",
      "<re.Match object; span=(116, 117), match='5'>\n",
      "<re.Match object; span=(117, 118), match='6'>\n",
      "<re.Match object; span=(119, 120), match='7'>\n",
      "<re.Match object; span=(120, 121), match='8'>\n",
      "<re.Match object; span=(121, 122), match='9'>\n"
     ]
    }
   ],
   "source": [
    "\n",
    "pattern=re.compile(r'\\d')\n",
    "matches=pattern.finditer(doc)\n",
    "for match in matches:\n",
    "    print(match)"
   ]
  },
  {
   "cell_type": "code",
   "execution_count": 36,
   "metadata": {},
   "outputs": [
    {
     "name": "stdout",
     "output_type": "stream",
     "text": [
      "<re.Match object; span=(27, 30), match='123'>\n",
      "<re.Match object; span=(30, 33), match='456'>\n",
      "<re.Match object; span=(33, 36), match='789'>\n",
      "<re.Match object; span=(54, 57), match='225'>\n",
      "<re.Match object; span=(58, 61), match='888'>\n",
      "<re.Match object; span=(111, 114), match='123'>\n",
      "<re.Match object; span=(115, 118), match='456'>\n",
      "<re.Match object; span=(119, 122), match='789'>\n"
     ]
    }
   ],
   "source": [
    "\n",
    "pattern=re.compile(r'\\d\\d\\d')\n",
    "matches=pattern.finditer(doc)\n",
    "for match in matches:\n",
    "    print(match)"
   ]
  },
  {
   "cell_type": "code",
   "execution_count": 37,
   "metadata": {},
   "outputs": [
    {
     "name": "stdout",
     "output_type": "stream",
     "text": [
      "<re.Match object; span=(27, 31), match='1234'>\n",
      "<re.Match object; span=(31, 35), match='5678'>\n",
      "<re.Match object; span=(58, 62), match='8889'>\n"
     ]
    }
   ],
   "source": [
    "\n",
    "pattern=re.compile(r'\\d\\d\\d\\d')\n",
    "matches=pattern.finditer(doc)\n",
    "for match in matches:\n",
    "    print(match)"
   ]
  },
  {
   "cell_type": "code",
   "execution_count": 43,
   "metadata": {},
   "outputs": [
    {
     "name": "stdout",
     "output_type": "stream",
     "text": [
      "<re.Match object; span=(111, 122), match='123.456.789'>\n",
      "<re.Match object; span=(123, 134), match='458-989-351'>\n"
     ]
    }
   ],
   "source": [
    "pattern=re.compile(r'\\d\\d\\d.\\d\\d\\d.\\d\\d\\d')\n",
    "matches=pattern.finditer(doc)\n",
    "for match in matches:\n",
    "    print(match)"
   ]
  },
  {
   "cell_type": "code",
   "execution_count": 51,
   "metadata": {},
   "outputs": [
    {
     "name": "stdout",
     "output_type": "stream",
     "text": [
      "<re.Match object; span=(12, 23), match='615-555-716'>\n",
      "<re.Match object; span=(86, 97), match='615*555*716'>\n",
      "<re.Match object; span=(98, 109), match='615.555.716'>\n",
      "<re.Match object; span=(126, 137), match='800-555-566'>\n",
      "<re.Match object; span=(215, 226), match='560-555-515'>\n",
      "<re.Match object; span=(305, 316), match='900-555-934'>\n",
      "<re.Match object; span=(402, 413), match='714-555-740'>\n",
      "<re.Match object; span=(491, 502), match='800-555-677'>\n",
      "<re.Match object; span=(581, 592), match='783-555-479'>\n",
      "<re.Match object; span=(671, 682), match='516-555-461'>\n",
      "<re.Match object; span=(764, 775), match='127-555-186'>\n",
      "<re.Match object; span=(855, 866), match='608-555-493'>\n",
      "<re.Match object; span=(941, 952), match='568-555-605'>\n",
      "<re.Match object; span=(1029, 1040), match='292-555-187'>\n",
      "<re.Match object; span=(1103, 1114), match='123*256*256'>\n",
      "<re.Match object; span=(1128, 1139), match='900-555-320'>\n",
      "<re.Match object; span=(1217, 1228), match='614-555-116'>\n",
      "<re.Match object; span=(1308, 1319), match='530-555-267'>\n",
      "<re.Match object; span=(1394, 1405), match='470-555-275'>\n",
      "<re.Match object; span=(1478, 1489), match='800-555-608'>\n",
      "<re.Match object; span=(1565, 1576), match='880-555-831'>\n",
      "<re.Match object; span=(1653, 1664), match='777-555-837'>\n",
      "<re.Match object; span=(1736, 1747), match='998-555-738'>\n",
      "<re.Match object; span=(1829, 1840), match='800-555-710'>\n",
      "<re.Match object; span=(1913, 1924), match='903-555-827'>\n",
      "<re.Match object; span=(2001, 2012), match='196-555-567'>\n",
      "<re.Match object; span=(2090, 2101), match='900-555-511'>\n",
      "<re.Match object; span=(2174, 2185), match='905-555-163'>\n",
      "<re.Match object; span=(2255, 2266), match='203-555-347'>\n",
      "<re.Match object; span=(2339, 2350), match='884-555-844'>\n",
      "<re.Match object; span=(2426, 2437), match='904-555-855'>\n",
      "<re.Match object; span=(2514, 2525), match='889-555-739'>\n",
      "<re.Match object; span=(2601, 2612), match='195-555-240'>\n",
      "<re.Match object; span=(2686, 2697), match='321-555-905'>\n",
      "<re.Match object; span=(2773, 2784), match='133-555-171'>\n",
      "<re.Match object; span=(2865, 2876), match='900-555-542'>\n",
      "<re.Match object; span=(2954, 2965), match='760-555-714'>\n",
      "<re.Match object; span=(3053, 3064), match='391-555-662'>\n",
      "<re.Match object; span=(3144, 3155), match='932-555-772'>\n",
      "<re.Match object; span=(3233, 3244), match='609-555-790'>\n",
      "<re.Match object; span=(3325, 3336), match='800-555-881'>\n",
      "<re.Match object; span=(3413, 3424), match='149-555-765'>\n",
      "<re.Match object; span=(3493, 3504), match='130-555-970'>\n",
      "<re.Match object; span=(3576, 3587), match='143-555-929'>\n",
      "<re.Match object; span=(3665, 3676), match='903-555-987'>\n",
      "<re.Match object; span=(3755, 3766), match='574-555-319'>\n",
      "<re.Match object; span=(3843, 3854), match='496-555-753'>\n",
      "<re.Match object; span=(3928, 3939), match='210-555-375'>\n",
      "<re.Match object; span=(4012, 4023), match='900-555-959'>\n",
      "<re.Match object; span=(4097, 4108), match='866-555-984'>\n",
      "<re.Match object; span=(4181, 4192), match='669-555-715'>\n",
      "<re.Match object; span=(4266, 4277), match='152-555-741'>\n",
      "<re.Match object; span=(4358, 4369), match='893-555-983'>\n",
      "<re.Match object; span=(4448, 4459), match='217-555-712'>\n",
      "<re.Match object; span=(4539, 4550), match='786-555-654'>\n",
      "<re.Match object; span=(4629, 4640), match='780-555-257'>\n",
      "<re.Match object; span=(4717, 4728), match='926-555-873'>\n",
      "<re.Match object; span=(4803, 4814), match='895-555-353'>\n",
      "<re.Match object; span=(4900, 4911), match='874-555-394'>\n",
      "<re.Match object; span=(4986, 4997), match='800-555-242'>\n",
      "<re.Match object; span=(5075, 5086), match='936-555-634'>\n",
      "<re.Match object; span=(5164, 5175), match='372-555-980'>\n",
      "<re.Match object; span=(5251, 5262), match='890-555-561'>\n",
      "<re.Match object; span=(5333, 5344), match='670-555-300'>\n",
      "<re.Match object; span=(5423, 5434), match='509-555-599'>\n",
      "<re.Match object; span=(5516, 5527), match='721-555-563'>\n",
      "<re.Match object; span=(5607, 5618), match='900-555-356'>\n",
      "<re.Match object; span=(5697, 5708), match='147-555-683'>\n",
      "<re.Match object; span=(5786, 5797), match='582-555-342'>\n",
      "<re.Match object; span=(5871, 5882), match='400-555-170'>\n",
      "<re.Match object; span=(5962, 5973), match='525-555-179'>\n",
      "<re.Match object; span=(6052, 6063), match='317-555-670'>\n",
      "<re.Match object; span=(6140, 6151), match='974-555-830'>\n",
      "<re.Match object; span=(6230, 6241), match='800-555-321'>\n",
      "<re.Match object; span=(6316, 6327), match='746-555-409'>\n",
      "<re.Match object; span=(6403, 6414), match='922-555-177'>\n",
      "<re.Match object; span=(6488, 6499), match='711-555-442'>\n",
      "<re.Match object; span=(6573, 6584), match='355-555-187'>\n",
      "<re.Match object; span=(6662, 6673), match='852-555-652'>\n",
      "<re.Match object; span=(6754, 6765), match='691-555-577'>\n",
      "<re.Match object; span=(6846, 6857), match='332-555-544'>\n",
      "<re.Match object; span=(6932, 6943), match='900-555-775'>\n",
      "<re.Match object; span=(7014, 7025), match='379-555-368'>\n",
      "<re.Match object; span=(7104, 7115), match='127-555-968'>\n",
      "<re.Match object; span=(7195, 7206), match='789-555-703'>\n",
      "<re.Match object; span=(7286, 7297), match='783-555-513'>\n",
      "<re.Match object; span=(7379, 7390), match='315-555-650'>\n",
      "<re.Match object; span=(7470, 7481), match='481-555-583'>\n",
      "<re.Match object; span=(7558, 7569), match='365-555-828'>\n",
      "<re.Match object; span=(7650, 7661), match='911-555-753'>\n",
      "<re.Match object; span=(7736, 7747), match='681-555-246'>\n",
      "<re.Match object; span=(7822, 7833), match='274-555-980'>\n",
      "<re.Match object; span=(7907, 7918), match='800-555-137'>\n",
      "<re.Match object; span=(7996, 8007), match='300-555-782'>\n",
      "<re.Match object; span=(8086, 8097), match='133-555-388'>\n",
      "<re.Match object; span=(8174, 8185), match='705-555-686'>\n",
      "<re.Match object; span=(8263, 8274), match='215-555-944'>\n",
      "<re.Match object; span=(8354, 8365), match='988-555-611'>\n",
      "<re.Match object; span=(8440, 8451), match='623-555-300'>\n",
      "<re.Match object; span=(8524, 8535), match='192-555-497'>\n",
      "<re.Match object; span=(8609, 8620), match='178-555-489'>\n",
      "<re.Match object; span=(8693, 8704), match='952-555-308'>\n",
      "<re.Match object; span=(8786, 8797), match='900-555-642'>\n"
     ]
    }
   ],
   "source": [
    "with open('doc.txt') as f:\n",
    "    contents=f.read()\n",
    "    pattern=re.compile(r'\\d\\d\\d.\\d\\d\\d.\\d\\d\\d')\n",
    "\n",
    "    matches=pattern.finditer(contents)\n",
    "    for match in matches:\n",
    "        print(match)"
   ]
  },
  {
   "cell_type": "code",
   "execution_count": 52,
   "metadata": {},
   "outputs": [
    {
     "name": "stdout",
     "output_type": "stream",
     "text": [
      "<re.Match object; span=(12, 23), match='615-555-716'>\n",
      "<re.Match object; span=(98, 109), match='615.555.716'>\n",
      "<re.Match object; span=(126, 137), match='800-555-566'>\n",
      "<re.Match object; span=(215, 226), match='560-555-515'>\n",
      "<re.Match object; span=(305, 316), match='900-555-934'>\n",
      "<re.Match object; span=(402, 413), match='714-555-740'>\n",
      "<re.Match object; span=(491, 502), match='800-555-677'>\n",
      "<re.Match object; span=(581, 592), match='783-555-479'>\n",
      "<re.Match object; span=(671, 682), match='516-555-461'>\n",
      "<re.Match object; span=(764, 775), match='127-555-186'>\n",
      "<re.Match object; span=(855, 866), match='608-555-493'>\n",
      "<re.Match object; span=(941, 952), match='568-555-605'>\n",
      "<re.Match object; span=(1029, 1040), match='292-555-187'>\n",
      "<re.Match object; span=(1128, 1139), match='900-555-320'>\n",
      "<re.Match object; span=(1217, 1228), match='614-555-116'>\n",
      "<re.Match object; span=(1308, 1319), match='530-555-267'>\n",
      "<re.Match object; span=(1394, 1405), match='470-555-275'>\n",
      "<re.Match object; span=(1478, 1489), match='800-555-608'>\n",
      "<re.Match object; span=(1565, 1576), match='880-555-831'>\n",
      "<re.Match object; span=(1653, 1664), match='777-555-837'>\n",
      "<re.Match object; span=(1736, 1747), match='998-555-738'>\n",
      "<re.Match object; span=(1829, 1840), match='800-555-710'>\n",
      "<re.Match object; span=(1913, 1924), match='903-555-827'>\n",
      "<re.Match object; span=(2001, 2012), match='196-555-567'>\n",
      "<re.Match object; span=(2090, 2101), match='900-555-511'>\n",
      "<re.Match object; span=(2174, 2185), match='905-555-163'>\n",
      "<re.Match object; span=(2255, 2266), match='203-555-347'>\n",
      "<re.Match object; span=(2339, 2350), match='884-555-844'>\n",
      "<re.Match object; span=(2426, 2437), match='904-555-855'>\n",
      "<re.Match object; span=(2514, 2525), match='889-555-739'>\n",
      "<re.Match object; span=(2601, 2612), match='195-555-240'>\n",
      "<re.Match object; span=(2686, 2697), match='321-555-905'>\n",
      "<re.Match object; span=(2773, 2784), match='133-555-171'>\n",
      "<re.Match object; span=(2865, 2876), match='900-555-542'>\n",
      "<re.Match object; span=(2954, 2965), match='760-555-714'>\n",
      "<re.Match object; span=(3053, 3064), match='391-555-662'>\n",
      "<re.Match object; span=(3144, 3155), match='932-555-772'>\n",
      "<re.Match object; span=(3233, 3244), match='609-555-790'>\n",
      "<re.Match object; span=(3325, 3336), match='800-555-881'>\n",
      "<re.Match object; span=(3413, 3424), match='149-555-765'>\n",
      "<re.Match object; span=(3493, 3504), match='130-555-970'>\n",
      "<re.Match object; span=(3576, 3587), match='143-555-929'>\n",
      "<re.Match object; span=(3665, 3676), match='903-555-987'>\n",
      "<re.Match object; span=(3755, 3766), match='574-555-319'>\n",
      "<re.Match object; span=(3843, 3854), match='496-555-753'>\n",
      "<re.Match object; span=(3928, 3939), match='210-555-375'>\n",
      "<re.Match object; span=(4012, 4023), match='900-555-959'>\n",
      "<re.Match object; span=(4097, 4108), match='866-555-984'>\n",
      "<re.Match object; span=(4181, 4192), match='669-555-715'>\n",
      "<re.Match object; span=(4266, 4277), match='152-555-741'>\n",
      "<re.Match object; span=(4358, 4369), match='893-555-983'>\n",
      "<re.Match object; span=(4448, 4459), match='217-555-712'>\n",
      "<re.Match object; span=(4539, 4550), match='786-555-654'>\n",
      "<re.Match object; span=(4629, 4640), match='780-555-257'>\n",
      "<re.Match object; span=(4717, 4728), match='926-555-873'>\n",
      "<re.Match object; span=(4803, 4814), match='895-555-353'>\n",
      "<re.Match object; span=(4900, 4911), match='874-555-394'>\n",
      "<re.Match object; span=(4986, 4997), match='800-555-242'>\n",
      "<re.Match object; span=(5075, 5086), match='936-555-634'>\n",
      "<re.Match object; span=(5164, 5175), match='372-555-980'>\n",
      "<re.Match object; span=(5251, 5262), match='890-555-561'>\n",
      "<re.Match object; span=(5333, 5344), match='670-555-300'>\n",
      "<re.Match object; span=(5423, 5434), match='509-555-599'>\n",
      "<re.Match object; span=(5516, 5527), match='721-555-563'>\n",
      "<re.Match object; span=(5607, 5618), match='900-555-356'>\n",
      "<re.Match object; span=(5697, 5708), match='147-555-683'>\n",
      "<re.Match object; span=(5786, 5797), match='582-555-342'>\n",
      "<re.Match object; span=(5871, 5882), match='400-555-170'>\n",
      "<re.Match object; span=(5962, 5973), match='525-555-179'>\n",
      "<re.Match object; span=(6052, 6063), match='317-555-670'>\n",
      "<re.Match object; span=(6140, 6151), match='974-555-830'>\n",
      "<re.Match object; span=(6230, 6241), match='800-555-321'>\n",
      "<re.Match object; span=(6316, 6327), match='746-555-409'>\n",
      "<re.Match object; span=(6403, 6414), match='922-555-177'>\n",
      "<re.Match object; span=(6488, 6499), match='711-555-442'>\n",
      "<re.Match object; span=(6573, 6584), match='355-555-187'>\n",
      "<re.Match object; span=(6662, 6673), match='852-555-652'>\n",
      "<re.Match object; span=(6754, 6765), match='691-555-577'>\n",
      "<re.Match object; span=(6846, 6857), match='332-555-544'>\n",
      "<re.Match object; span=(6932, 6943), match='900-555-775'>\n",
      "<re.Match object; span=(7014, 7025), match='379-555-368'>\n",
      "<re.Match object; span=(7104, 7115), match='127-555-968'>\n",
      "<re.Match object; span=(7195, 7206), match='789-555-703'>\n",
      "<re.Match object; span=(7286, 7297), match='783-555-513'>\n",
      "<re.Match object; span=(7379, 7390), match='315-555-650'>\n",
      "<re.Match object; span=(7470, 7481), match='481-555-583'>\n",
      "<re.Match object; span=(7558, 7569), match='365-555-828'>\n",
      "<re.Match object; span=(7650, 7661), match='911-555-753'>\n",
      "<re.Match object; span=(7736, 7747), match='681-555-246'>\n",
      "<re.Match object; span=(7822, 7833), match='274-555-980'>\n",
      "<re.Match object; span=(7907, 7918), match='800-555-137'>\n",
      "<re.Match object; span=(7996, 8007), match='300-555-782'>\n",
      "<re.Match object; span=(8086, 8097), match='133-555-388'>\n",
      "<re.Match object; span=(8174, 8185), match='705-555-686'>\n",
      "<re.Match object; span=(8263, 8274), match='215-555-944'>\n",
      "<re.Match object; span=(8354, 8365), match='988-555-611'>\n",
      "<re.Match object; span=(8440, 8451), match='623-555-300'>\n",
      "<re.Match object; span=(8524, 8535), match='192-555-497'>\n",
      "<re.Match object; span=(8609, 8620), match='178-555-489'>\n",
      "<re.Match object; span=(8693, 8704), match='952-555-308'>\n",
      "<re.Match object; span=(8786, 8797), match='900-555-642'>\n"
     ]
    }
   ],
   "source": [
    "with open('doc.txt') as f:\n",
    "    contents=f.read()\n",
    "    pattern=re.compile(r'\\d\\d\\d[-.]\\d\\d\\d[-.]\\d\\d\\d')  #[-.] - matches one character\n",
    "    matches=pattern.finditer(contents)\n",
    "    for match in matches:\n",
    "        print(match)"
   ]
  },
  {
   "cell_type": "code",
   "execution_count": 53,
   "metadata": {},
   "outputs": [],
   "source": [
    "doc=\"\"\"\n",
    "abcdefghijklmnop\n",
    "ABCDEFGHI123456789\n",
    "\n",
    "Danish\n",
    "Anwer\n",
    "91-225-8889\n",
    "danish.com\n",
    "\n",
    "Ha HaHa\n",
    "\n",
    "Mrs. Sanketa\n",
    "Miss. Sanketa\n",
    "123.456.789\n",
    "458-989-351\n",
    "800-989-351\n",
    "900-989-351\n",
    "-danish@gmail.com\n",
    "\"\"\""
   ]
  },
  {
   "cell_type": "code",
   "execution_count": 55,
   "metadata": {},
   "outputs": [
    {
     "name": "stdout",
     "output_type": "stream",
     "text": [
      "<re.Match object; span=(135, 146), match='800-989-351'>\n",
      "<re.Match object; span=(147, 158), match='900-989-351'>\n"
     ]
    }
   ],
   "source": [
    "pattern=re.compile(r'[89]00[-.]\\d\\d\\d[-.]\\d\\d\\d')\n",
    "matches=pattern.finditer(doc)\n",
    "for match in matches:\n",
    "    print(match)"
   ]
  },
  {
   "cell_type": "code",
   "execution_count": 61,
   "metadata": {},
   "outputs": [
    {
     "name": "stdout",
     "output_type": "stream",
     "text": [
      "<re.Match object; span=(111, 122), match='123.456.789'>\n",
      "<re.Match object; span=(123, 134), match='458-989-351'>\n"
     ]
    }
   ],
   "source": [
    "pattern=re.compile(r'[1-7]\\d\\d[-.]\\d\\d\\d[-.]\\d\\d\\d')\n",
    "matches=pattern.finditer(doc)\n",
    "for match in matches:\n",
    "    print(match)"
   ]
  },
  {
   "cell_type": "code",
   "execution_count": 62,
   "metadata": {},
   "outputs": [
    {
     "name": "stdout",
     "output_type": "stream",
     "text": [
      "<re.Match object; span=(1, 2), match='a'>\n",
      "<re.Match object; span=(2, 3), match='b'>\n",
      "<re.Match object; span=(3, 4), match='c'>\n",
      "<re.Match object; span=(4, 5), match='d'>\n",
      "<re.Match object; span=(5, 6), match='e'>\n",
      "<re.Match object; span=(6, 7), match='f'>\n",
      "<re.Match object; span=(7, 8), match='g'>\n",
      "<re.Match object; span=(8, 9), match='h'>\n",
      "<re.Match object; span=(9, 10), match='i'>\n",
      "<re.Match object; span=(10, 11), match='j'>\n",
      "<re.Match object; span=(11, 12), match='k'>\n",
      "<re.Match object; span=(12, 13), match='l'>\n",
      "<re.Match object; span=(13, 14), match='m'>\n",
      "<re.Match object; span=(14, 15), match='n'>\n",
      "<re.Match object; span=(15, 16), match='o'>\n",
      "<re.Match object; span=(16, 17), match='p'>\n",
      "<re.Match object; span=(39, 40), match='a'>\n",
      "<re.Match object; span=(40, 41), match='n'>\n",
      "<re.Match object; span=(41, 42), match='i'>\n",
      "<re.Match object; span=(42, 43), match='s'>\n",
      "<re.Match object; span=(43, 44), match='h'>\n",
      "<re.Match object; span=(46, 47), match='n'>\n",
      "<re.Match object; span=(47, 48), match='w'>\n",
      "<re.Match object; span=(48, 49), match='e'>\n",
      "<re.Match object; span=(49, 50), match='r'>\n",
      "<re.Match object; span=(63, 64), match='d'>\n",
      "<re.Match object; span=(64, 65), match='a'>\n",
      "<re.Match object; span=(65, 66), match='n'>\n",
      "<re.Match object; span=(66, 67), match='i'>\n",
      "<re.Match object; span=(67, 68), match='s'>\n",
      "<re.Match object; span=(68, 69), match='h'>\n",
      "<re.Match object; span=(70, 71), match='c'>\n",
      "<re.Match object; span=(71, 72), match='o'>\n",
      "<re.Match object; span=(72, 73), match='m'>\n",
      "<re.Match object; span=(76, 77), match='a'>\n",
      "<re.Match object; span=(79, 80), match='a'>\n",
      "<re.Match object; span=(81, 82), match='a'>\n",
      "<re.Match object; span=(85, 86), match='r'>\n",
      "<re.Match object; span=(86, 87), match='s'>\n",
      "<re.Match object; span=(90, 91), match='a'>\n",
      "<re.Match object; span=(91, 92), match='n'>\n",
      "<re.Match object; span=(92, 93), match='k'>\n",
      "<re.Match object; span=(93, 94), match='e'>\n",
      "<re.Match object; span=(94, 95), match='t'>\n",
      "<re.Match object; span=(95, 96), match='a'>\n",
      "<re.Match object; span=(98, 99), match='i'>\n",
      "<re.Match object; span=(99, 100), match='s'>\n",
      "<re.Match object; span=(100, 101), match='s'>\n",
      "<re.Match object; span=(104, 105), match='a'>\n",
      "<re.Match object; span=(105, 106), match='n'>\n",
      "<re.Match object; span=(106, 107), match='k'>\n",
      "<re.Match object; span=(107, 108), match='e'>\n",
      "<re.Match object; span=(108, 109), match='t'>\n",
      "<re.Match object; span=(109, 110), match='a'>\n",
      "<re.Match object; span=(160, 161), match='d'>\n",
      "<re.Match object; span=(161, 162), match='a'>\n",
      "<re.Match object; span=(162, 163), match='n'>\n",
      "<re.Match object; span=(163, 164), match='i'>\n",
      "<re.Match object; span=(164, 165), match='s'>\n",
      "<re.Match object; span=(165, 166), match='h'>\n",
      "<re.Match object; span=(167, 168), match='g'>\n",
      "<re.Match object; span=(168, 169), match='m'>\n",
      "<re.Match object; span=(169, 170), match='a'>\n",
      "<re.Match object; span=(170, 171), match='i'>\n",
      "<re.Match object; span=(171, 172), match='l'>\n",
      "<re.Match object; span=(173, 174), match='c'>\n",
      "<re.Match object; span=(174, 175), match='o'>\n",
      "<re.Match object; span=(175, 176), match='m'>\n"
     ]
    }
   ],
   "source": [
    "pattern=re.compile(r'[a-z]')\n",
    "matches=pattern.finditer(doc)\n",
    "for match in matches:\n",
    "    print(match)"
   ]
  },
  {
   "cell_type": "code",
   "execution_count": 64,
   "metadata": {},
   "outputs": [
    {
     "name": "stdout",
     "output_type": "stream",
     "text": [
      "<re.Match object; span=(1, 2), match='a'>\n",
      "<re.Match object; span=(2, 3), match='b'>\n",
      "<re.Match object; span=(3, 4), match='c'>\n",
      "<re.Match object; span=(4, 5), match='d'>\n",
      "<re.Match object; span=(5, 6), match='e'>\n",
      "<re.Match object; span=(6, 7), match='f'>\n",
      "<re.Match object; span=(7, 8), match='g'>\n",
      "<re.Match object; span=(8, 9), match='h'>\n",
      "<re.Match object; span=(9, 10), match='i'>\n",
      "<re.Match object; span=(10, 11), match='j'>\n",
      "<re.Match object; span=(11, 12), match='k'>\n",
      "<re.Match object; span=(12, 13), match='l'>\n",
      "<re.Match object; span=(13, 14), match='m'>\n",
      "<re.Match object; span=(14, 15), match='n'>\n",
      "<re.Match object; span=(15, 16), match='o'>\n",
      "<re.Match object; span=(16, 17), match='p'>\n",
      "<re.Match object; span=(18, 19), match='A'>\n",
      "<re.Match object; span=(19, 20), match='B'>\n",
      "<re.Match object; span=(20, 21), match='C'>\n",
      "<re.Match object; span=(21, 22), match='D'>\n",
      "<re.Match object; span=(22, 23), match='E'>\n",
      "<re.Match object; span=(23, 24), match='F'>\n",
      "<re.Match object; span=(24, 25), match='G'>\n",
      "<re.Match object; span=(25, 26), match='H'>\n",
      "<re.Match object; span=(26, 27), match='I'>\n",
      "<re.Match object; span=(38, 39), match='D'>\n",
      "<re.Match object; span=(39, 40), match='a'>\n",
      "<re.Match object; span=(40, 41), match='n'>\n",
      "<re.Match object; span=(41, 42), match='i'>\n",
      "<re.Match object; span=(42, 43), match='s'>\n",
      "<re.Match object; span=(43, 44), match='h'>\n",
      "<re.Match object; span=(45, 46), match='A'>\n",
      "<re.Match object; span=(46, 47), match='n'>\n",
      "<re.Match object; span=(47, 48), match='w'>\n",
      "<re.Match object; span=(48, 49), match='e'>\n",
      "<re.Match object; span=(49, 50), match='r'>\n",
      "<re.Match object; span=(63, 64), match='d'>\n",
      "<re.Match object; span=(64, 65), match='a'>\n",
      "<re.Match object; span=(65, 66), match='n'>\n",
      "<re.Match object; span=(66, 67), match='i'>\n",
      "<re.Match object; span=(67, 68), match='s'>\n",
      "<re.Match object; span=(68, 69), match='h'>\n",
      "<re.Match object; span=(70, 71), match='c'>\n",
      "<re.Match object; span=(71, 72), match='o'>\n",
      "<re.Match object; span=(72, 73), match='m'>\n",
      "<re.Match object; span=(75, 76), match='H'>\n",
      "<re.Match object; span=(76, 77), match='a'>\n",
      "<re.Match object; span=(78, 79), match='H'>\n",
      "<re.Match object; span=(79, 80), match='a'>\n",
      "<re.Match object; span=(80, 81), match='H'>\n",
      "<re.Match object; span=(81, 82), match='a'>\n",
      "<re.Match object; span=(84, 85), match='M'>\n",
      "<re.Match object; span=(85, 86), match='r'>\n",
      "<re.Match object; span=(86, 87), match='s'>\n",
      "<re.Match object; span=(89, 90), match='S'>\n",
      "<re.Match object; span=(90, 91), match='a'>\n",
      "<re.Match object; span=(91, 92), match='n'>\n",
      "<re.Match object; span=(92, 93), match='k'>\n",
      "<re.Match object; span=(93, 94), match='e'>\n",
      "<re.Match object; span=(94, 95), match='t'>\n",
      "<re.Match object; span=(95, 96), match='a'>\n",
      "<re.Match object; span=(97, 98), match='M'>\n",
      "<re.Match object; span=(98, 99), match='i'>\n",
      "<re.Match object; span=(99, 100), match='s'>\n",
      "<re.Match object; span=(100, 101), match='s'>\n",
      "<re.Match object; span=(103, 104), match='S'>\n",
      "<re.Match object; span=(104, 105), match='a'>\n",
      "<re.Match object; span=(105, 106), match='n'>\n",
      "<re.Match object; span=(106, 107), match='k'>\n",
      "<re.Match object; span=(107, 108), match='e'>\n",
      "<re.Match object; span=(108, 109), match='t'>\n",
      "<re.Match object; span=(109, 110), match='a'>\n",
      "<re.Match object; span=(160, 161), match='d'>\n",
      "<re.Match object; span=(161, 162), match='a'>\n",
      "<re.Match object; span=(162, 163), match='n'>\n",
      "<re.Match object; span=(163, 164), match='i'>\n",
      "<re.Match object; span=(164, 165), match='s'>\n",
      "<re.Match object; span=(165, 166), match='h'>\n",
      "<re.Match object; span=(167, 168), match='g'>\n",
      "<re.Match object; span=(168, 169), match='m'>\n",
      "<re.Match object; span=(169, 170), match='a'>\n",
      "<re.Match object; span=(170, 171), match='i'>\n",
      "<re.Match object; span=(171, 172), match='l'>\n",
      "<re.Match object; span=(173, 174), match='c'>\n",
      "<re.Match object; span=(174, 175), match='o'>\n",
      "<re.Match object; span=(175, 176), match='m'>\n"
     ]
    }
   ],
   "source": [
    "pattern=re.compile(r'[a-zA-Z]')\n",
    "matches=pattern.finditer(doc)\n",
    "for match in matches:\n",
    "    print(match)"
   ]
  },
  {
   "cell_type": "code",
   "execution_count": 67,
   "metadata": {},
   "outputs": [
    {
     "name": "stdout",
     "output_type": "stream",
     "text": [
      "<re.Match object; span=(0, 1), match='\\n'>\n",
      "<re.Match object; span=(17, 18), match='\\n'>\n",
      "<re.Match object; span=(27, 28), match='1'>\n",
      "<re.Match object; span=(28, 29), match='2'>\n",
      "<re.Match object; span=(29, 30), match='3'>\n",
      "<re.Match object; span=(30, 31), match='4'>\n",
      "<re.Match object; span=(31, 32), match='5'>\n",
      "<re.Match object; span=(32, 33), match='6'>\n",
      "<re.Match object; span=(33, 34), match='7'>\n",
      "<re.Match object; span=(34, 35), match='8'>\n",
      "<re.Match object; span=(35, 36), match='9'>\n",
      "<re.Match object; span=(36, 37), match='\\n'>\n",
      "<re.Match object; span=(37, 38), match='\\n'>\n",
      "<re.Match object; span=(44, 45), match='\\n'>\n",
      "<re.Match object; span=(50, 51), match='\\n'>\n",
      "<re.Match object; span=(51, 52), match='9'>\n",
      "<re.Match object; span=(52, 53), match='1'>\n",
      "<re.Match object; span=(53, 54), match='-'>\n",
      "<re.Match object; span=(54, 55), match='2'>\n",
      "<re.Match object; span=(55, 56), match='2'>\n",
      "<re.Match object; span=(56, 57), match='5'>\n",
      "<re.Match object; span=(57, 58), match='-'>\n",
      "<re.Match object; span=(58, 59), match='8'>\n",
      "<re.Match object; span=(59, 60), match='8'>\n",
      "<re.Match object; span=(60, 61), match='8'>\n",
      "<re.Match object; span=(61, 62), match='9'>\n",
      "<re.Match object; span=(62, 63), match='\\n'>\n",
      "<re.Match object; span=(69, 70), match='.'>\n",
      "<re.Match object; span=(73, 74), match='\\n'>\n",
      "<re.Match object; span=(74, 75), match='\\n'>\n",
      "<re.Match object; span=(77, 78), match=' '>\n",
      "<re.Match object; span=(82, 83), match='\\n'>\n",
      "<re.Match object; span=(83, 84), match='\\n'>\n",
      "<re.Match object; span=(87, 88), match='.'>\n",
      "<re.Match object; span=(88, 89), match=' '>\n",
      "<re.Match object; span=(96, 97), match='\\n'>\n",
      "<re.Match object; span=(101, 102), match='.'>\n",
      "<re.Match object; span=(102, 103), match=' '>\n",
      "<re.Match object; span=(110, 111), match='\\n'>\n",
      "<re.Match object; span=(111, 112), match='1'>\n",
      "<re.Match object; span=(112, 113), match='2'>\n",
      "<re.Match object; span=(113, 114), match='3'>\n",
      "<re.Match object; span=(114, 115), match='.'>\n",
      "<re.Match object; span=(115, 116), match='4'>\n",
      "<re.Match object; span=(116, 117), match='5'>\n",
      "<re.Match object; span=(117, 118), match='6'>\n",
      "<re.Match object; span=(118, 119), match='.'>\n",
      "<re.Match object; span=(119, 120), match='7'>\n",
      "<re.Match object; span=(120, 121), match='8'>\n",
      "<re.Match object; span=(121, 122), match='9'>\n",
      "<re.Match object; span=(122, 123), match='\\n'>\n",
      "<re.Match object; span=(123, 124), match='4'>\n",
      "<re.Match object; span=(124, 125), match='5'>\n",
      "<re.Match object; span=(125, 126), match='8'>\n",
      "<re.Match object; span=(126, 127), match='-'>\n",
      "<re.Match object; span=(127, 128), match='9'>\n",
      "<re.Match object; span=(128, 129), match='8'>\n",
      "<re.Match object; span=(129, 130), match='9'>\n",
      "<re.Match object; span=(130, 131), match='-'>\n",
      "<re.Match object; span=(131, 132), match='3'>\n",
      "<re.Match object; span=(132, 133), match='5'>\n",
      "<re.Match object; span=(133, 134), match='1'>\n",
      "<re.Match object; span=(134, 135), match='\\n'>\n",
      "<re.Match object; span=(135, 136), match='8'>\n",
      "<re.Match object; span=(136, 137), match='0'>\n",
      "<re.Match object; span=(137, 138), match='0'>\n",
      "<re.Match object; span=(138, 139), match='-'>\n",
      "<re.Match object; span=(139, 140), match='9'>\n",
      "<re.Match object; span=(140, 141), match='8'>\n",
      "<re.Match object; span=(141, 142), match='9'>\n",
      "<re.Match object; span=(142, 143), match='-'>\n",
      "<re.Match object; span=(143, 144), match='3'>\n",
      "<re.Match object; span=(144, 145), match='5'>\n",
      "<re.Match object; span=(145, 146), match='1'>\n",
      "<re.Match object; span=(146, 147), match='\\n'>\n",
      "<re.Match object; span=(147, 148), match='9'>\n",
      "<re.Match object; span=(148, 149), match='0'>\n",
      "<re.Match object; span=(149, 150), match='0'>\n",
      "<re.Match object; span=(150, 151), match='-'>\n",
      "<re.Match object; span=(151, 152), match='9'>\n",
      "<re.Match object; span=(152, 153), match='8'>\n",
      "<re.Match object; span=(153, 154), match='9'>\n",
      "<re.Match object; span=(154, 155), match='-'>\n",
      "<re.Match object; span=(155, 156), match='3'>\n",
      "<re.Match object; span=(156, 157), match='5'>\n",
      "<re.Match object; span=(157, 158), match='1'>\n",
      "<re.Match object; span=(158, 159), match='\\n'>\n",
      "<re.Match object; span=(159, 160), match='-'>\n",
      "<re.Match object; span=(166, 167), match='@'>\n",
      "<re.Match object; span=(172, 173), match='.'>\n",
      "<re.Match object; span=(176, 177), match='\\n'>\n"
     ]
    }
   ],
   "source": [
    "pattern=re.compile(r'[^a-zA-Z]')\n",
    "matches=pattern.finditer(doc)\n",
    "for match in matches:\n",
    "    print(match)"
   ]
  },
  {
   "cell_type": "code",
   "execution_count": 73,
   "metadata": {},
   "outputs": [
    {
     "name": "stdout",
     "output_type": "stream",
     "text": [
      "<re.Match object; span=(83, 86), match='cat'>\n",
      "<re.Match object; span=(91, 94), match='mat'>\n",
      "<re.Match object; span=(95, 98), match='sat'>\n"
     ]
    }
   ],
   "source": [
    "doc=\"\"\"\n",
    "abcdefghijklmnop\n",
    "ABCDEFGHI123456789\n",
    "\n",
    "Danish\n",
    "Anwer\n",
    "91-225-8889\n",
    "danish.com\n",
    "\n",
    "Ha HaHa\n",
    "cat\n",
    "bat\n",
    "mat\n",
    "sat\n",
    "Mr. Danish\n",
    "\n",
    "Mrs. Sanketa\n",
    "Miss. Sanketa\n",
    "123.456.7891\n",
    "458-989-351\n",
    "800-989-351\n",
    "900-989-351\n",
    "-danish@gmail.com\n",
    "\"\"\"\n",
    "pattern=re.compile(r'[^b]at')\n",
    "matches=pattern.finditer(doc)\n",
    "for match in matches:\n",
    "    print(match)"
   ]
  },
  {
   "cell_type": "code",
   "execution_count": 69,
   "metadata": {},
   "outputs": [
    {
     "data": {
      "text/plain": [
       "'\\n* - 0 or More\\n+ - 1 or More\\n\\n? - 0 or One\\n\\n{3} - Exact Number\\n\\n{3,4} - Range of Number {Min,Max}\\n'"
      ]
     },
     "execution_count": 69,
     "metadata": {},
     "output_type": "execute_result"
    }
   ],
   "source": [
    "\"\"\"\n",
    "* - 0 or More\n",
    "+ - 1 or More\n",
    "\n",
    "? - 0 or One\n",
    "\n",
    "{3} - Exact Number\n",
    "\n",
    "{3,4} - Range of Number {Min,Max}\n",
    "\"\"\""
   ]
  },
  {
   "cell_type": "code",
   "execution_count": 71,
   "metadata": {},
   "outputs": [
    {
     "name": "stdout",
     "output_type": "stream",
     "text": [
      "<re.Match object; span=(126, 138), match='123.456.7891'>\n"
     ]
    }
   ],
   "source": [
    "pattern=re.compile(r'\\d{3}.\\d{3}.\\d{4}')\n",
    "matches=pattern.finditer(doc)\n",
    "for match in matches:\n",
    "    print(match)"
   ]
  },
  {
   "cell_type": "code",
   "execution_count": 72,
   "metadata": {},
   "outputs": [
    {
     "name": "stdout",
     "output_type": "stream",
     "text": [
      "<re.Match object; span=(126, 137), match='123.456.789'>\n",
      "<re.Match object; span=(139, 150), match='458-989-351'>\n",
      "<re.Match object; span=(151, 162), match='800-989-351'>\n",
      "<re.Match object; span=(163, 174), match='900-989-351'>\n"
     ]
    }
   ],
   "source": [
    "pattern=re.compile(r'\\d{3}.\\d{3}.\\d{3}')\n",
    "matches=pattern.finditer(doc)\n",
    "for match in matches:\n",
    "    print(match)"
   ]
  },
  {
   "cell_type": "code",
   "execution_count": 82,
   "metadata": {},
   "outputs": [
    {
     "name": "stdout",
     "output_type": "stream",
     "text": [
      "<re.Match object; span=(99, 102), match='Mr.'>\n",
      "<re.Match object; span=(157, 160), match='Mr.'>\n"
     ]
    }
   ],
   "source": [
    "doc=\"\"\"\n",
    "abcdefghijklmnop\n",
    "ABCDEFGHI123456789\n",
    "\n",
    "Danish\n",
    "Anwer\n",
    "91-225-8889\n",
    "danish.com\n",
    "\n",
    "Ha HaHa\n",
    "cat\n",
    "bat\n",
    "mat\n",
    "sat\n",
    "Mr. Danish\n",
    "Mr Hari\n",
    "Mr . Chetan\n",
    "Mrs. Sanketa\n",
    "Miss. Sanketa\n",
    "Mr. T\n",
    "123.456.7891\n",
    "458-989-351\n",
    "800-989-351\n",
    "900-989-351\n",
    "-danish@gmail.com\n",
    "\"\"\"\n",
    "\n",
    "\n",
    "\n",
    "pattern=re.compile(r'Mr\\.')\n",
    "matches=pattern.finditer(doc)\n",
    "for match in matches:\n",
    "    print(match)"
   ]
  },
  {
   "cell_type": "code",
   "execution_count": 78,
   "metadata": {},
   "outputs": [
    {
     "name": "stdout",
     "output_type": "stream",
     "text": [
      "<re.Match object; span=(99, 102), match='Mr.'>\n",
      "<re.Match object; span=(110, 112), match='Mr'>\n",
      "<re.Match object; span=(118, 120), match='Mr'>\n",
      "<re.Match object; span=(130, 132), match='Mr'>\n"
     ]
    }
   ],
   "source": [
    "pattern=re.compile(r'Mr\\.?')\n",
    "matches=pattern.finditer(doc)\n",
    "for match in matches:\n",
    "    print(match)"
   ]
  },
  {
   "cell_type": "code",
   "execution_count": 79,
   "metadata": {},
   "outputs": [
    {
     "name": "stdout",
     "output_type": "stream",
     "text": [
      "<re.Match object; span=(99, 104), match='Mr. D'>\n",
      "<re.Match object; span=(110, 114), match='Mr H'>\n"
     ]
    }
   ],
   "source": [
    "pattern=re.compile(r'Mr\\.?\\s[A-Z]')\n",
    "matches=pattern.finditer(doc)\n",
    "for match in matches:\n",
    "    print(match)"
   ]
  },
  {
   "cell_type": "code",
   "execution_count": 80,
   "metadata": {},
   "outputs": [
    {
     "name": "stdout",
     "output_type": "stream",
     "text": [
      "<re.Match object; span=(99, 109), match='Mr. Danish'>\n",
      "<re.Match object; span=(110, 117), match='Mr Hari'>\n"
     ]
    }
   ],
   "source": [
    "pattern=re.compile(r'Mr\\.?\\s[A-Z]\\w+')\n",
    "matches=pattern.finditer(doc)\n",
    "for match in matches:\n",
    "    print(match)"
   ]
  },
  {
   "cell_type": "code",
   "execution_count": 85,
   "metadata": {},
   "outputs": [
    {
     "name": "stdout",
     "output_type": "stream",
     "text": [
      "<re.Match object; span=(99, 109), match='Mr. Danish'>\n",
      "<re.Match object; span=(110, 117), match='Mr Hari'>\n",
      "<re.Match object; span=(130, 142), match='Mrs. Sanketa'>\n",
      "<re.Match object; span=(143, 156), match='Miss. Sanketa'>\n",
      "<re.Match object; span=(157, 162), match='Mr. T'>\n"
     ]
    }
   ],
   "source": [
    "pattern=re.compile(r'M(r|rs|iss)\\.?\\s[A-Z]\\w*')\n",
    "matches=pattern.finditer(doc)\n",
    "for match in matches:\n",
    "    print(match)"
   ]
  },
  {
   "cell_type": "code",
   "execution_count": 86,
   "metadata": {},
   "outputs": [
    {
     "name": "stdout",
     "output_type": "stream",
     "text": [
      "<re.Match object; span=(99, 109), match='Mr. Danish'>\n",
      "<re.Match object; span=(110, 117), match='Mr Hari'>\n",
      "<re.Match object; span=(157, 162), match='Mr. T'>\n"
     ]
    }
   ],
   "source": [
    "pattern=re.compile(r'Mr\\.?\\s[A-Z]\\w*')\n",
    "matches=pattern.finditer(doc)\n",
    "for match in matches:\n",
    "    print(match)"
   ]
  },
  {
   "cell_type": "code",
   "execution_count": 109,
   "metadata": {},
   "outputs": [
    {
     "name": "stdout",
     "output_type": "stream",
     "text": [
      "<re.Match object; span=(211, 227), match='danish@gmail.com'>\n",
      "<re.Match object; span=(228, 256), match='danish@university.tu-dresden'>\n"
     ]
    }
   ],
   "source": [
    "doc=\"\"\"abcdefghijklmnop\n",
    "ABCDEFGHI123456789\n",
    "\n",
    "Danish\n",
    "Anwer\n",
    "91-225-8889\n",
    "danish.com\n",
    "\n",
    "Ha HaHa\n",
    "cat\n",
    "bat\n",
    "mat\n",
    "sat\n",
    "Mr. Danish\n",
    "Mr Hari\n",
    "Mr . Chetan\n",
    "Mrs. Sanketa\n",
    "Miss. Sanketa\n",
    "Mr. T\n",
    "123.456.7891\n",
    "458-989-351\n",
    "800-989-351\n",
    "900-989-351\n",
    "danish@gmail.com\n",
    "danish@university.tu-dresden\n",
    "sanketa-123@gmail.com\n",
    "sanketa.123@gmail.com\n",
    "hari123@gmail.com\n",
    "\"\"\"\n",
    "\n",
    "pattern=re.compile(r'[a-zA-Z]+@[a-zA-Z]+\\.(com|tu-dresden)')\n",
    "matches=pattern.finditer(doc)\n",
    "for match in matches:\n",
    "    print(match)"
   ]
  },
  {
   "cell_type": "code",
   "execution_count": 96,
   "metadata": {},
   "outputs": [
    {
     "name": "stdout",
     "output_type": "stream",
     "text": [
      "<re.Match object; span=(212, 228), match='danish@gmail.com'>\n",
      "<re.Match object; span=(229, 257), match='danish@university.tu-dresden'>\n",
      "<re.Match object; span=(258, 279), match='sanketa-123@gmail.com'>\n",
      "<re.Match object; span=(280, 301), match='sanketa.123@gmail.com'>\n",
      "<re.Match object; span=(302, 319), match='hari123@gmail.com'>\n"
     ]
    }
   ],
   "source": [
    "\n",
    "pattern=re.compile(r'[a-zA-Z0-9.-]+@[a-zA-Z]+\\.(com|tu-dresden)')\n",
    "matches=pattern.finditer(doc)\n",
    "for match in matches:\n",
    "    print(match)"
   ]
  },
  {
   "cell_type": "code",
   "execution_count": 100,
   "metadata": {},
   "outputs": [
    {
     "name": "stdout",
     "output_type": "stream",
     "text": [
      "<re.Match object; span=(1, 23), match='https://www.google.com'>\n",
      "<re.Match object; span=(25, 48), match='https://www.youtube.com'>\n",
      "<re.Match object; span=(50, 70), match='https://www.nasa.gov'>\n",
      "<re.Match object; span=(72, 93), match='https://www.coder.com'>\n",
      "<re.Match object; span=(95, 119), match='https://www.leetcode.com'>\n"
     ]
    }
   ],
   "source": [
    "urls=\"\"\"\n",
    "https://www.google.com/\n",
    "https://www.youtube.com/\n",
    "https://www.nasa.gov/\n",
    "https://www.coder.com/\n",
    "https://www.leetcode.com/\n",
    "\"\"\"\n",
    "\n",
    "\n",
    "pattern=re.compile(r'[a-zA-Z0-9.-]+://(www\\.)?\\w+\\.[a-zA-Z]+')\n",
    "matches=pattern.finditer(urls)\n",
    "for match in matches:\n",
    "    print(match)"
   ]
  },
  {
   "cell_type": "code",
   "execution_count": 101,
   "metadata": {},
   "outputs": [
    {
     "name": "stdout",
     "output_type": "stream",
     "text": [
      "https://www.google.com\n",
      "https://www.youtube.com\n",
      "https://www.nasa.gov\n",
      "https://www.coder.com\n",
      "https://www.leetcode.com\n"
     ]
    }
   ],
   "source": [
    "\n",
    "pattern=re.compile(r'[a-zA-Z0-9.-]+://(www\\.)?(\\w+)(\\.[a-zA-Z]+)')\n",
    "matches=pattern.finditer(urls)\n",
    "for match in matches:\n",
    "    print(match.group(0))"
   ]
  },
  {
   "cell_type": "code",
   "execution_count": 103,
   "metadata": {},
   "outputs": [
    {
     "name": "stdout",
     "output_type": "stream",
     "text": [
      "www.\n",
      "www.\n",
      "www.\n",
      "www.\n",
      "www.\n"
     ]
    }
   ],
   "source": [
    "\n",
    "pattern=re.compile(r'[a-zA-Z0-9.-]+://(www\\.)?(\\w+)(\\.[a-zA-Z]+)')\n",
    "matches=pattern.finditer(urls)\n",
    "for match in matches:\n",
    "    print(match.group(1))"
   ]
  },
  {
   "cell_type": "code",
   "execution_count": 104,
   "metadata": {},
   "outputs": [
    {
     "name": "stdout",
     "output_type": "stream",
     "text": [
      "google\n",
      "youtube\n",
      "nasa\n",
      "coder\n",
      "leetcode\n"
     ]
    }
   ],
   "source": [
    "\n",
    "pattern=re.compile(r'[a-zA-Z0-9.-]+://(www\\.)?(\\w+)(\\.[a-zA-Z]+)')\n",
    "matches=pattern.finditer(urls)\n",
    "for match in matches:\n",
    "    print(match.group(2))"
   ]
  },
  {
   "cell_type": "code",
   "execution_count": 105,
   "metadata": {},
   "outputs": [
    {
     "name": "stdout",
     "output_type": "stream",
     "text": [
      "<re.Match object; span=(99, 109), match='Mr. Danish'>\n",
      "<re.Match object; span=(110, 117), match='Mr Hari'>\n",
      "<re.Match object; span=(130, 142), match='Mrs. Sanketa'>\n",
      "<re.Match object; span=(143, 156), match='Miss. Sanketa'>\n",
      "<re.Match object; span=(157, 162), match='Mr. T'>\n"
     ]
    }
   ],
   "source": [
    "pattern=re.compile(r'M(r|rs|iss)\\.?\\s[A-Z]\\w*')\n",
    "matches=pattern.finditer(doc)\n",
    "for match in matches:\n",
    "    print(match)"
   ]
  },
  {
   "cell_type": "code",
   "execution_count": 106,
   "metadata": {},
   "outputs": [
    {
     "name": "stdout",
     "output_type": "stream",
     "text": [
      "r\n",
      "r\n",
      "rs\n",
      "iss\n",
      "r\n"
     ]
    }
   ],
   "source": [
    "pattern=re.compile(r'M(r|rs|iss)\\.?\\s[A-Z]\\w*')\n",
    "matches=pattern.findall(doc)\n",
    "for match in matches:\n",
    "    print(match)"
   ]
  },
  {
   "cell_type": "code",
   "execution_count": 110,
   "metadata": {},
   "outputs": [
    {
     "name": "stdout",
     "output_type": "stream",
     "text": [
      "<re.Match object; span=(0, 3), match='abc'>\n"
     ]
    }
   ],
   "source": [
    "pattern=re.compile(r'abc')\n",
    "matches=pattern.match(doc)\n",
    "print(matches)"
   ]
  },
  {
   "cell_type": "code",
   "execution_count": 111,
   "metadata": {},
   "outputs": [
    {
     "name": "stdout",
     "output_type": "stream",
     "text": [
      "None\n"
     ]
    }
   ],
   "source": [
    "pattern=re.compile(r'bc')\n",
    "matches=pattern.match(doc)\n",
    "print(matches)"
   ]
  },
  {
   "cell_type": "code",
   "execution_count": 113,
   "metadata": {},
   "outputs": [
    {
     "name": "stdout",
     "output_type": "stream",
     "text": [
      "<re.Match object; span=(0, 2), match='My'>\n"
     ]
    }
   ],
   "source": [
    "sen=\"My name is Danish\"\n",
    "pattern=re.compile(r'my',re.IGNORECASE)\n",
    "matches=pattern.search(sen)\n",
    "print(matches)"
   ]
  },
  {
   "cell_type": "code",
   "execution_count": null,
   "metadata": {},
   "outputs": [],
   "source": []
  }
 ],
 "metadata": {
  "kernelspec": {
   "display_name": "Python 3",
   "language": "python",
   "name": "python3"
  },
  "language_info": {
   "codemirror_mode": {
    "name": "ipython",
    "version": 3
   },
   "file_extension": ".py",
   "mimetype": "text/x-python",
   "name": "python",
   "nbconvert_exporter": "python",
   "pygments_lexer": "ipython3",
   "version": "3.8.3"
  }
 },
 "nbformat": 4,
 "nbformat_minor": 4
}
