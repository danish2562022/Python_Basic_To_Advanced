{
 "cells": [
  {
   "cell_type": "code",
   "execution_count": 1,
   "metadata": {},
   "outputs": [],
   "source": [
    "My_info={'Name':\"MD Danish Anwer\", \"Occupation\":\"Student\",\"University\":\"TU Dresden\"}"
   ]
  },
  {
   "cell_type": "code",
   "execution_count": 2,
   "metadata": {},
   "outputs": [
    {
     "name": "stdout",
     "output_type": "stream",
     "text": [
      "MD Danish Anwer\n"
     ]
    }
   ],
   "source": [
    "print(My_info[\"Name\"])"
   ]
  },
  {
   "cell_type": "code",
   "execution_count": 3,
   "metadata": {},
   "outputs": [
    {
     "ename": "KeyError",
     "evalue": "'Course'",
     "output_type": "error",
     "traceback": [
      "\u001b[1;31m---------------------------------------------------------------------------\u001b[0m",
      "\u001b[1;31mKeyError\u001b[0m                                  Traceback (most recent call last)",
      "\u001b[1;32m<ipython-input-3-d8e1f9da8334>\u001b[0m in \u001b[0;36m<module>\u001b[1;34m\u001b[0m\n\u001b[1;32m----> 1\u001b[1;33m \u001b[0mprint\u001b[0m\u001b[1;33m(\u001b[0m\u001b[0mMy_info\u001b[0m\u001b[1;33m[\u001b[0m\u001b[1;34m\"Course\"\u001b[0m\u001b[1;33m]\u001b[0m\u001b[1;33m)\u001b[0m\u001b[1;33m\u001b[0m\u001b[1;33m\u001b[0m\u001b[0m\n\u001b[0m",
      "\u001b[1;31mKeyError\u001b[0m: 'Course'"
     ]
    }
   ],
   "source": [
    "print(My_info[\"Course\"])"
   ]
  },
  {
   "cell_type": "code",
   "execution_count": 5,
   "metadata": {},
   "outputs": [
    {
     "name": "stdout",
     "output_type": "stream",
     "text": [
      "Not found\n"
     ]
    }
   ],
   "source": [
    "print(My_info.get('Course',\"Not found\")) "
   ]
  },
  {
   "cell_type": "code",
   "execution_count": 6,
   "metadata": {},
   "outputs": [
    {
     "name": "stdout",
     "output_type": "stream",
     "text": [
      "{'Name': 'MD Danish Anwer', 'Occupation': 'Student', 'University': 'TU Dresden', 'Phone Number': '8618486621'}\n"
     ]
    }
   ],
   "source": [
    "My_info[\"Phone Number\"]=\"8618486621\"\n",
    "print(My_info)"
   ]
  },
  {
   "cell_type": "code",
   "execution_count": 7,
   "metadata": {},
   "outputs": [
    {
     "name": "stdout",
     "output_type": "stream",
     "text": [
      "{'Name': 'Mohammad Danish Anwer', 'Occupation': \"Master's Student\", 'University': 'TU Dresden', 'Phone Number': '8618486621'}\n"
     ]
    }
   ],
   "source": [
    "# Updating multiple values of keys in dictionary\n",
    "My_info.update({\"Name\":\"Mohammad Danish Anwer\",\"Occupation\":\"Master's Student\"})\n",
    "print(My_info)"
   ]
  },
  {
   "cell_type": "code",
   "execution_count": 8,
   "metadata": {},
   "outputs": [
    {
     "name": "stdout",
     "output_type": "stream",
     "text": [
      "{'Name': 'Mohammad Danish Anwer', 'Occupation': \"Master's Student\", 'University': 'TU Dresden'}\n"
     ]
    }
   ],
   "source": [
    "# Deleting key-value pairs\n",
    "del My_info[\"Phone Number\"]\n",
    "print(My_info)"
   ]
  },
  {
   "cell_type": "code",
   "execution_count": 9,
   "metadata": {},
   "outputs": [
    {
     "name": "stdout",
     "output_type": "stream",
     "text": [
      "TU Dresden\n",
      "{'Name': 'Mohammad Danish Anwer', 'Occupation': \"Master's Student\"}\n"
     ]
    }
   ],
   "source": [
    "University=My_info.pop('University')\n",
    "print(University)\n",
    "print(My_info)"
   ]
  },
  {
   "cell_type": "code",
   "execution_count": 10,
   "metadata": {},
   "outputs": [
    {
     "name": "stdout",
     "output_type": "stream",
     "text": [
      "dict_keys(['Name', 'Occupation'])\n"
     ]
    }
   ],
   "source": [
    "print(My_info.keys())"
   ]
  },
  {
   "cell_type": "code",
   "execution_count": 11,
   "metadata": {},
   "outputs": [
    {
     "name": "stdout",
     "output_type": "stream",
     "text": [
      "dict_values(['Mohammad Danish Anwer', \"Master's Student\"])\n"
     ]
    }
   ],
   "source": [
    "print(My_info.values())"
   ]
  },
  {
   "cell_type": "code",
   "execution_count": 12,
   "metadata": {},
   "outputs": [
    {
     "name": "stdout",
     "output_type": "stream",
     "text": [
      "dict_items([('Name', 'Mohammad Danish Anwer'), ('Occupation', \"Master's Student\")])\n"
     ]
    }
   ],
   "source": [
    "print(My_info.items())"
   ]
  },
  {
   "cell_type": "code",
   "execution_count": 13,
   "metadata": {},
   "outputs": [
    {
     "name": "stdout",
     "output_type": "stream",
     "text": [
      "Name Mohammad Danish Anwer\n",
      "Occupation Master's Student\n"
     ]
    }
   ],
   "source": [
    "for key,value in My_info.items():\n",
    "    print(key,value)"
   ]
  },
  {
   "cell_type": "code",
   "execution_count": null,
   "metadata": {},
   "outputs": [],
   "source": []
  }
 ],
 "metadata": {
  "kernelspec": {
   "display_name": "Python 3",
   "language": "python",
   "name": "python3"
  },
  "language_info": {
   "codemirror_mode": {
    "name": "ipython",
    "version": 3
   },
   "file_extension": ".py",
   "mimetype": "text/x-python",
   "name": "python",
   "nbconvert_exporter": "python",
   "pygments_lexer": "ipython3",
   "version": "3.8.3"
  }
 },
 "nbformat": 4,
 "nbformat_minor": 4
}
