{
 "cells": [
  {
   "cell_type": "code",
   "execution_count": 1,
   "metadata": {},
   "outputs": [
    {
     "name": "stdout",
     "output_type": "stream",
     "text": [
      "['DirEntry', 'F_OK', 'MutableMapping', 'O_APPEND', 'O_BINARY', 'O_CREAT', 'O_EXCL', 'O_NOINHERIT', 'O_RANDOM', 'O_RDONLY', 'O_RDWR', 'O_SEQUENTIAL', 'O_SHORT_LIVED', 'O_TEMPORARY', 'O_TEXT', 'O_TRUNC', 'O_WRONLY', 'P_DETACH', 'P_NOWAIT', 'P_NOWAITO', 'P_OVERLAY', 'P_WAIT', 'PathLike', 'R_OK', 'SEEK_CUR', 'SEEK_END', 'SEEK_SET', 'TMP_MAX', 'W_OK', 'X_OK', '_AddedDllDirectory', '_Environ', '__all__', '__builtins__', '__cached__', '__doc__', '__file__', '__loader__', '__name__', '__package__', '__spec__', '_check_methods', '_execvpe', '_exists', '_exit', '_fspath', '_get_exports_list', '_putenv', '_unsetenv', '_wrap_close', 'abc', 'abort', 'access', 'add_dll_directory', 'altsep', 'chdir', 'chmod', 'close', 'closerange', 'cpu_count', 'curdir', 'defpath', 'device_encoding', 'devnull', 'dup', 'dup2', 'environ', 'error', 'execl', 'execle', 'execlp', 'execlpe', 'execv', 'execve', 'execvp', 'execvpe', 'extsep', 'fdopen', 'fsdecode', 'fsencode', 'fspath', 'fstat', 'fsync', 'ftruncate', 'get_exec_path', 'get_handle_inheritable', 'get_inheritable', 'get_terminal_size', 'getcwd', 'getcwdb', 'getenv', 'getlogin', 'getpid', 'getppid', 'isatty', 'kill', 'linesep', 'link', 'listdir', 'lseek', 'lstat', 'makedirs', 'mkdir', 'name', 'open', 'pardir', 'path', 'pathsep', 'pipe', 'popen', 'putenv', 'read', 'readlink', 'remove', 'removedirs', 'rename', 'renames', 'replace', 'rmdir', 'scandir', 'sep', 'set_handle_inheritable', 'set_inheritable', 'spawnl', 'spawnle', 'spawnv', 'spawnve', 'st', 'startfile', 'stat', 'stat_result', 'statvfs_result', 'strerror', 'supports_bytes_environ', 'supports_dir_fd', 'supports_effective_ids', 'supports_fd', 'supports_follow_symlinks', 'symlink', 'sys', 'system', 'terminal_size', 'times', 'times_result', 'truncate', 'umask', 'uname_result', 'unlink', 'urandom', 'utime', 'waitpid', 'walk', 'write']\n"
     ]
    }
   ],
   "source": [
    "import os\n",
    "print(dir(os))"
   ]
  },
  {
   "cell_type": "code",
   "execution_count": 3,
   "metadata": {},
   "outputs": [
    {
     "name": "stdout",
     "output_type": "stream",
     "text": [
      "C:\\Users\\MD DANISH ANWER\\Python_Basic_To_Advanced\n"
     ]
    }
   ],
   "source": [
    "print(os.getcwd()) # give current directory "
   ]
  },
  {
   "cell_type": "code",
   "execution_count": 6,
   "metadata": {},
   "outputs": [],
   "source": [
    "os.chdir(\"/Users/MD DANISH ANWER\")"
   ]
  },
  {
   "cell_type": "code",
   "execution_count": 7,
   "metadata": {},
   "outputs": [
    {
     "name": "stdout",
     "output_type": "stream",
     "text": [
      "C:\\Users\\MD DANISH ANWER\n"
     ]
    }
   ],
   "source": [
    "print(os.getcwd())"
   ]
  },
  {
   "cell_type": "code",
   "execution_count": 9,
   "metadata": {},
   "outputs": [
    {
     "name": "stdout",
     "output_type": "stream",
     "text": [
      "['.android', '.conda', '.config', '.eclipse', '.gitconfig', '.idlerc', '.ipynb_checkpoints', '.ipython', '.jupyter', '.keras', '.matplotlib', '.p2', '.python_history', '.ssh', '.tooling', '11_Assignment_GBDT_Instructions.ipynb', '3D Objects', '3_Reference_Vectorization.ipynb', '3_SQL', '4_Reference_Vectorization.ipynb', '8D_LR_SVM.ipynb', '8EF_LR_SVM_pdf.ipynb', 'AAIC', 'alfons-morales-410757-unsplash.jpg', 'anaconda3', 'ansel', 'Anwendungsdaten', 'AppData', 'AppliedAIWorkshop.ipynb', 'Backpropagation', 'Briefmarken.1Stk.18.12.2020_1531.pdf', 'Cancer Diagnosis', 'Clustering assignment', 'Contacts', 'Cookies', 'Course-Knowledge-graphs', 'cresd', 'danish25062022gmail.com.ipynb', 'danish2562022gmail.com_Assignment_4.ipynb', 'Deep Learning', 'Desktop', 'Documents', 'Downloads', 'Druckumgebung', 'eclipse', 'eclipse-workspace', 'Eigene Dateien', 'Environments', 'example_solution.zip', 'Facebook', 'Favorites', 'fdm5_x64_setup.exe', 'glove_vectors', 'Google Drive', 'Handshake.txt', 'handshake_problem.lp', 'IdeaProjects', 'idman638build15.exe', 'Links', 'Lokale Einstellungen', 'Machine_Learning', 'MicrosoftEdgeBackups', 'MicrosoftMalware', 'Multithreading_in_Python_for_AI_ML.ipynb', 'Music', 'mytoken.txt', 'Netflix_Movie.ipynb', 'Netzwerkumgebung', 'new', 'new.zip', 'Newyork taxi', 'NTUSER.DAT', 'ntuser.dat.LOG1', 'ntuser.dat.LOG2', 'NTUSER.DAT{93fbdf7d-020b-11eb-aa61-a4b1c1aa0907}.TxR.0.regtrans-ms', 'NTUSER.DAT{93fbdf7d-020b-11eb-aa61-a4b1c1aa0907}.TxR.1.regtrans-ms', 'NTUSER.DAT{93fbdf7d-020b-11eb-aa61-a4b1c1aa0907}.TxR.2.regtrans-ms', 'NTUSER.DAT{93fbdf7d-020b-11eb-aa61-a4b1c1aa0907}.TxR.blf', 'NTUSER.DAT{93fbdf7e-020b-11eb-aa61-a4b1c1aa0907}.TM.blf', 'NTUSER.DAT{93fbdf7e-020b-11eb-aa61-a4b1c1aa0907}.TMContainer00000000000000000001.regtrans-ms', 'NTUSER.DAT{93fbdf7e-020b-11eb-aa61-a4b1c1aa0907}.TMContainer00000000000000000002.regtrans-ms', 'ntuser.ini', 'OneDrive', 'oops.ipynb', 'opencv', 'OPENCV_PROJ', 'OpenVPN', 'Personalised_Cancer_Diagnosis', 'Pictures', 'preprocessed_data.csv', 'PycharmProjects', 'python.py', 'Python_Basic_To_Advanced', 'Quora', 'Quora-Questions-Pair-Similarity', 'Recent', 'RecommendationSystem_TruncatedSVD', 'requirement.txt', 'Saved Games', 'Searches', 'SendTo', 'Shared_folder', 'simple-graphs', 'Social_network_Graph_Link_Prediction', 'source', 'Startmenü', 'tensorflow_datasets', 'TestPrint (1).pdf', 'TestPrint.pdf', 'token.txt', 'token.txt.pub', 'Untitled Folder 1', 'Untitled.ipynb', 'Untitled1.ipynb', 'Untitled2.ipynb', 'Videos', 'Vorlagen', 'workspace']\n"
     ]
    }
   ],
   "source": [
    "print(os.listdir()) # printing directories in the path"
   ]
  },
  {
   "cell_type": "code",
   "execution_count": 10,
   "metadata": {},
   "outputs": [],
   "source": [
    "# Creating folding with the given name\n",
    "os.makedirs(\"O.S\")"
   ]
  },
  {
   "cell_type": "code",
   "execution_count": 11,
   "metadata": {},
   "outputs": [],
   "source": [
    "os.chdir(\"/Users/MD DANISH ANWER/O.S\")"
   ]
  },
  {
   "cell_type": "code",
   "execution_count": 12,
   "metadata": {},
   "outputs": [
    {
     "name": "stdout",
     "output_type": "stream",
     "text": [
      "C:\\Users\\MD DANISH ANWER\\O.S\n"
     ]
    }
   ],
   "source": [
    "print(os.getcwd())"
   ]
  },
  {
   "cell_type": "code",
   "execution_count": 14,
   "metadata": {},
   "outputs": [],
   "source": [
    "os.mkdir(\"O.S1\")"
   ]
  },
  {
   "cell_type": "code",
   "execution_count": 15,
   "metadata": {},
   "outputs": [
    {
     "name": "stdout",
     "output_type": "stream",
     "text": [
      "['O.S1']\n"
     ]
    }
   ],
   "source": [
    "print(os.listdir())"
   ]
  },
  {
   "cell_type": "code",
   "execution_count": 16,
   "metadata": {},
   "outputs": [
    {
     "ename": "FileNotFoundError",
     "evalue": "[WinError 3] The system cannot find the path specified: 'O.S2/O.S3'",
     "output_type": "error",
     "traceback": [
      "\u001b[1;31m---------------------------------------------------------------------------\u001b[0m",
      "\u001b[1;31mFileNotFoundError\u001b[0m                         Traceback (most recent call last)",
      "\u001b[1;32m<ipython-input-16-ae99dae9d6ab>\u001b[0m in \u001b[0;36m<module>\u001b[1;34m\u001b[0m\n\u001b[1;32m----> 1\u001b[1;33m \u001b[0mos\u001b[0m\u001b[1;33m.\u001b[0m\u001b[0mmkdir\u001b[0m\u001b[1;33m(\u001b[0m\u001b[1;34m\"O.S2/O.S3\"\u001b[0m\u001b[1;33m)\u001b[0m\u001b[1;33m\u001b[0m\u001b[1;33m\u001b[0m\u001b[0m\n\u001b[0m",
      "\u001b[1;31mFileNotFoundError\u001b[0m: [WinError 3] The system cannot find the path specified: 'O.S2/O.S3'"
     ]
    }
   ],
   "source": [
    "os.mkdir(\"O.S2/O.S3\")"
   ]
  },
  {
   "cell_type": "code",
   "execution_count": 17,
   "metadata": {},
   "outputs": [],
   "source": [
    "os.makedirs(\"O.S2/O.S3\")"
   ]
  },
  {
   "cell_type": "code",
   "execution_count": 20,
   "metadata": {},
   "outputs": [],
   "source": [
    "os.rmdir(\"O.S1\")"
   ]
  },
  {
   "cell_type": "code",
   "execution_count": 21,
   "metadata": {},
   "outputs": [],
   "source": [
    "os.rmdir(\"O.S2/O.S3\")"
   ]
  },
  {
   "cell_type": "code",
   "execution_count": 22,
   "metadata": {},
   "outputs": [
    {
     "name": "stdout",
     "output_type": "stream",
     "text": [
      "['O.S2']\n"
     ]
    }
   ],
   "source": [
    "print(os.listdir())"
   ]
  },
  {
   "cell_type": "code",
   "execution_count": 23,
   "metadata": {},
   "outputs": [],
   "source": [
    "os.rmdir(\"O.S2\")"
   ]
  },
  {
   "cell_type": "code",
   "execution_count": null,
   "metadata": {},
   "outputs": [],
   "source": []
  }
 ],
 "metadata": {
  "kernelspec": {
   "display_name": "Python 3",
   "language": "python",
   "name": "python3"
  },
  "language_info": {
   "codemirror_mode": {
    "name": "ipython",
    "version": 3
   },
   "file_extension": ".py",
   "mimetype": "text/x-python",
   "name": "python",
   "nbconvert_exporter": "python",
   "pygments_lexer": "ipython3",
   "version": "3.8.3"
  }
 },
 "nbformat": 4,
 "nbformat_minor": 4
}
