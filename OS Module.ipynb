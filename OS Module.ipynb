{
 "cells": [
  {
   "cell_type": "code",
   "execution_count": 1,
   "metadata": {},
   "outputs": [
    {
     "name": "stdout",
     "output_type": "stream",
     "text": [
      "['DirEntry', 'F_OK', 'MutableMapping', 'O_APPEND', 'O_BINARY', 'O_CREAT', 'O_EXCL', 'O_NOINHERIT', 'O_RANDOM', 'O_RDONLY', 'O_RDWR', 'O_SEQUENTIAL', 'O_SHORT_LIVED', 'O_TEMPORARY', 'O_TEXT', 'O_TRUNC', 'O_WRONLY', 'P_DETACH', 'P_NOWAIT', 'P_NOWAITO', 'P_OVERLAY', 'P_WAIT', 'PathLike', 'R_OK', 'SEEK_CUR', 'SEEK_END', 'SEEK_SET', 'TMP_MAX', 'W_OK', 'X_OK', '_AddedDllDirectory', '_Environ', '__all__', '__builtins__', '__cached__', '__doc__', '__file__', '__loader__', '__name__', '__package__', '__spec__', '_check_methods', '_execvpe', '_exists', '_exit', '_fspath', '_get_exports_list', '_putenv', '_unsetenv', '_wrap_close', 'abc', 'abort', 'access', 'add_dll_directory', 'altsep', 'chdir', 'chmod', 'close', 'closerange', 'cpu_count', 'curdir', 'defpath', 'device_encoding', 'devnull', 'dup', 'dup2', 'environ', 'error', 'execl', 'execle', 'execlp', 'execlpe', 'execv', 'execve', 'execvp', 'execvpe', 'extsep', 'fdopen', 'fsdecode', 'fsencode', 'fspath', 'fstat', 'fsync', 'ftruncate', 'get_exec_path', 'get_handle_inheritable', 'get_inheritable', 'get_terminal_size', 'getcwd', 'getcwdb', 'getenv', 'getlogin', 'getpid', 'getppid', 'isatty', 'kill', 'linesep', 'link', 'listdir', 'lseek', 'lstat', 'makedirs', 'mkdir', 'name', 'open', 'pardir', 'path', 'pathsep', 'pipe', 'popen', 'putenv', 'read', 'readlink', 'remove', 'removedirs', 'rename', 'renames', 'replace', 'rmdir', 'scandir', 'sep', 'set_handle_inheritable', 'set_inheritable', 'spawnl', 'spawnle', 'spawnv', 'spawnve', 'st', 'startfile', 'stat', 'stat_result', 'statvfs_result', 'strerror', 'supports_bytes_environ', 'supports_dir_fd', 'supports_effective_ids', 'supports_fd', 'supports_follow_symlinks', 'symlink', 'sys', 'system', 'terminal_size', 'times', 'times_result', 'truncate', 'umask', 'uname_result', 'unlink', 'urandom', 'utime', 'waitpid', 'walk', 'write']\n"
     ]
    }
   ],
   "source": [
    "import os\n",
    "print(dir(os))"
   ]
  },
  {
   "cell_type": "code",
   "execution_count": 3,
   "metadata": {},
   "outputs": [
    {
     "name": "stdout",
     "output_type": "stream",
     "text": [
      "C:\\Users\\MD DANISH ANWER\\Python_Basic_To_Advanced\n"
     ]
    }
   ],
   "source": [
    "print(os.getcwd()) # give current directory "
   ]
  },
  {
   "cell_type": "code",
   "execution_count": 6,
   "metadata": {},
   "outputs": [],
   "source": [
    "os.chdir(\"/Users/MD DANISH ANWER\")"
   ]
  },
  {
   "cell_type": "code",
   "execution_count": 7,
   "metadata": {},
   "outputs": [
    {
     "name": "stdout",
     "output_type": "stream",
     "text": [
      "C:\\Users\\MD DANISH ANWER\n"
     ]
    }
   ],
   "source": [
    "print(os.getcwd())"
   ]
  },
  {
   "cell_type": "code",
   "execution_count": 9,
   "metadata": {},
   "outputs": [
    {
     "name": "stdout",
     "output_type": "stream",
     "text": [
      "['.android', '.conda', '.config', '.eclipse', '.gitconfig', '.idlerc', '.ipynb_checkpoints', '.ipython', '.jupyter', '.keras', '.matplotlib', '.p2', '.python_history', '.ssh', '.tooling', '11_Assignment_GBDT_Instructions.ipynb', '3D Objects', '3_Reference_Vectorization.ipynb', '3_SQL', '4_Reference_Vectorization.ipynb', '8D_LR_SVM.ipynb', '8EF_LR_SVM_pdf.ipynb', 'AAIC', 'alfons-morales-410757-unsplash.jpg', 'anaconda3', 'ansel', 'Anwendungsdaten', 'AppData', 'AppliedAIWorkshop.ipynb', 'Backpropagation', 'Briefmarken.1Stk.18.12.2020_1531.pdf', 'Cancer Diagnosis', 'Clustering assignment', 'Contacts', 'Cookies', 'Course-Knowledge-graphs', 'cresd', 'danish25062022gmail.com.ipynb', 'danish2562022gmail.com_Assignment_4.ipynb', 'Deep Learning', 'Desktop', 'Documents', 'Downloads', 'Druckumgebung', 'eclipse', 'eclipse-workspace', 'Eigene Dateien', 'Environments', 'example_solution.zip', 'Facebook', 'Favorites', 'fdm5_x64_setup.exe', 'glove_vectors', 'Google Drive', 'Handshake.txt', 'handshake_problem.lp', 'IdeaProjects', 'idman638build15.exe', 'Links', 'Lokale Einstellungen', 'Machine_Learning', 'MicrosoftEdgeBackups', 'MicrosoftMalware', 'Multithreading_in_Python_for_AI_ML.ipynb', 'Music', 'mytoken.txt', 'Netflix_Movie.ipynb', 'Netzwerkumgebung', 'new', 'new.zip', 'Newyork taxi', 'NTUSER.DAT', 'ntuser.dat.LOG1', 'ntuser.dat.LOG2', 'NTUSER.DAT{93fbdf7d-020b-11eb-aa61-a4b1c1aa0907}.TxR.0.regtrans-ms', 'NTUSER.DAT{93fbdf7d-020b-11eb-aa61-a4b1c1aa0907}.TxR.1.regtrans-ms', 'NTUSER.DAT{93fbdf7d-020b-11eb-aa61-a4b1c1aa0907}.TxR.2.regtrans-ms', 'NTUSER.DAT{93fbdf7d-020b-11eb-aa61-a4b1c1aa0907}.TxR.blf', 'NTUSER.DAT{93fbdf7e-020b-11eb-aa61-a4b1c1aa0907}.TM.blf', 'NTUSER.DAT{93fbdf7e-020b-11eb-aa61-a4b1c1aa0907}.TMContainer00000000000000000001.regtrans-ms', 'NTUSER.DAT{93fbdf7e-020b-11eb-aa61-a4b1c1aa0907}.TMContainer00000000000000000002.regtrans-ms', 'ntuser.ini', 'OneDrive', 'oops.ipynb', 'opencv', 'OPENCV_PROJ', 'OpenVPN', 'Personalised_Cancer_Diagnosis', 'Pictures', 'preprocessed_data.csv', 'PycharmProjects', 'python.py', 'Python_Basic_To_Advanced', 'Quora', 'Quora-Questions-Pair-Similarity', 'Recent', 'RecommendationSystem_TruncatedSVD', 'requirement.txt', 'Saved Games', 'Searches', 'SendTo', 'Shared_folder', 'simple-graphs', 'Social_network_Graph_Link_Prediction', 'source', 'Startmenü', 'tensorflow_datasets', 'TestPrint (1).pdf', 'TestPrint.pdf', 'token.txt', 'token.txt.pub', 'Untitled Folder 1', 'Untitled.ipynb', 'Untitled1.ipynb', 'Untitled2.ipynb', 'Videos', 'Vorlagen', 'workspace']\n"
     ]
    }
   ],
   "source": [
    "print(os.listdir()) # printing directories in the path"
   ]
  },
  {
   "cell_type": "code",
   "execution_count": 10,
   "metadata": {},
   "outputs": [],
   "source": [
    "# Creating folding with the given name\n",
    "os.makedirs(\"O.S\")"
   ]
  },
  {
   "cell_type": "code",
   "execution_count": 11,
   "metadata": {},
   "outputs": [],
   "source": [
    "os.chdir(\"/Users/MD DANISH ANWER/O.S\")"
   ]
  },
  {
   "cell_type": "code",
   "execution_count": 12,
   "metadata": {},
   "outputs": [
    {
     "name": "stdout",
     "output_type": "stream",
     "text": [
      "C:\\Users\\MD DANISH ANWER\\O.S\n"
     ]
    }
   ],
   "source": [
    "print(os.getcwd())"
   ]
  },
  {
   "cell_type": "code",
   "execution_count": 14,
   "metadata": {},
   "outputs": [],
   "source": [
    "os.mkdir(\"O.S1\")"
   ]
  },
  {
   "cell_type": "code",
   "execution_count": 15,
   "metadata": {},
   "outputs": [
    {
     "name": "stdout",
     "output_type": "stream",
     "text": [
      "['O.S1']\n"
     ]
    }
   ],
   "source": [
    "print(os.listdir())"
   ]
  },
  {
   "cell_type": "code",
   "execution_count": 16,
   "metadata": {},
   "outputs": [
    {
     "ename": "FileNotFoundError",
     "evalue": "[WinError 3] The system cannot find the path specified: 'O.S2/O.S3'",
     "output_type": "error",
     "traceback": [
      "\u001b[1;31m---------------------------------------------------------------------------\u001b[0m",
      "\u001b[1;31mFileNotFoundError\u001b[0m                         Traceback (most recent call last)",
      "\u001b[1;32m<ipython-input-16-ae99dae9d6ab>\u001b[0m in \u001b[0;36m<module>\u001b[1;34m\u001b[0m\n\u001b[1;32m----> 1\u001b[1;33m \u001b[0mos\u001b[0m\u001b[1;33m.\u001b[0m\u001b[0mmkdir\u001b[0m\u001b[1;33m(\u001b[0m\u001b[1;34m\"O.S2/O.S3\"\u001b[0m\u001b[1;33m)\u001b[0m\u001b[1;33m\u001b[0m\u001b[1;33m\u001b[0m\u001b[0m\n\u001b[0m",
      "\u001b[1;31mFileNotFoundError\u001b[0m: [WinError 3] The system cannot find the path specified: 'O.S2/O.S3'"
     ]
    }
   ],
   "source": [
    "os.mkdir(\"O.S2/O.S3\")"
   ]
  },
  {
   "cell_type": "code",
   "execution_count": 17,
   "metadata": {},
   "outputs": [],
   "source": [
    "os.makedirs(\"O.S2/O.S3\")"
   ]
  },
  {
   "cell_type": "code",
   "execution_count": 20,
   "metadata": {},
   "outputs": [],
   "source": [
    "os.rmdir(\"O.S1\")"
   ]
  },
  {
   "cell_type": "code",
   "execution_count": 21,
   "metadata": {},
   "outputs": [],
   "source": [
    "os.rmdir(\"O.S2/O.S3\")"
   ]
  },
  {
   "cell_type": "code",
   "execution_count": 22,
   "metadata": {},
   "outputs": [
    {
     "name": "stdout",
     "output_type": "stream",
     "text": [
      "['O.S2']\n"
     ]
    }
   ],
   "source": [
    "print(os.listdir())"
   ]
  },
  {
   "cell_type": "code",
   "execution_count": 23,
   "metadata": {},
   "outputs": [],
   "source": [
    "os.rmdir(\"O.S2\")"
   ]
  },
  {
   "cell_type": "code",
   "execution_count": 24,
   "metadata": {},
   "outputs": [],
   "source": [
    "file = open(\"text.txt\", \"w\") \n",
    "file.write(\"Your text goes here\") \n",
    "file.close() "
   ]
  },
  {
   "cell_type": "code",
   "execution_count": 25,
   "metadata": {},
   "outputs": [
    {
     "name": "stdout",
     "output_type": "stream",
     "text": [
      "['text.txt']\n"
     ]
    }
   ],
   "source": [
    "print(os.listdir())"
   ]
  },
  {
   "cell_type": "code",
   "execution_count": 27,
   "metadata": {},
   "outputs": [
    {
     "name": "stdout",
     "output_type": "stream",
     "text": [
      "['demo.txt']\n"
     ]
    }
   ],
   "source": [
    "os.rename('text.txt','demo.txt')\n",
    "print(os.listdir())"
   ]
  },
  {
   "cell_type": "code",
   "execution_count": 28,
   "metadata": {},
   "outputs": [
    {
     "data": {
      "text/plain": [
       "os.stat_result(st_mode=33206, st_ino=52635820645089431, st_dev=3936472389, st_nlink=1, st_uid=0, st_gid=0, st_size=19, st_atime=1615040371, st_mtime=1615040328, st_ctime=1615040328)"
      ]
     },
     "execution_count": 28,
     "metadata": {},
     "output_type": "execute_result"
    }
   ],
   "source": [
    "os.stat('demo.txt')"
   ]
  },
  {
   "cell_type": "code",
   "execution_count": 29,
   "metadata": {},
   "outputs": [
    {
     "data": {
      "text/plain": [
       "19"
      ]
     },
     "execution_count": 29,
     "metadata": {},
     "output_type": "execute_result"
    }
   ],
   "source": [
    "os.stat('demo.txt').st_size"
   ]
  },
  {
   "cell_type": "code",
   "execution_count": 30,
   "metadata": {},
   "outputs": [
    {
     "data": {
      "text/plain": [
       "1615040328.5744822"
      ]
     },
     "execution_count": 30,
     "metadata": {},
     "output_type": "execute_result"
    }
   ],
   "source": [
    "os.stat('demo.txt').st_mtime"
   ]
  },
  {
   "cell_type": "code",
   "execution_count": 31,
   "metadata": {},
   "outputs": [
    {
     "name": "stdout",
     "output_type": "stream",
     "text": [
      "2021-03-06 15:18:48.574482\n"
     ]
    }
   ],
   "source": [
    "from datetime import datetime\n",
    "print(datetime.fromtimestamp(os.stat('demo.txt').st_mtime))"
   ]
  },
  {
   "cell_type": "code",
   "execution_count": 37,
   "metadata": {},
   "outputs": [
    {
     "name": "stdout",
     "output_type": "stream",
     "text": [
      "C:/Users/MD DANISH ANWER/Python_Basic_To_Advanced ['.git', '.ipynb_checkpoints', '__pycache__'] ['Dictionary.ipynb', 'Function_Import_Exploring_Libraries.ipynb', 'import.py', 'List_Comprehension.ipynb', 'List_Tuple_And_Sets.ipynb', 'mymodule.py', 'my_module.ipynb', 'OS Module.ipynb', 'README.md', 'Scope_of_Variable.ipynb', 'Working_On_Integers_Float.ipynb', 'Working_On_String.ipynb']\n",
      "C:/Users/MD DANISH ANWER/Python_Basic_To_Advanced\\.git ['hooks', 'info', 'logs', 'objects', 'refs'] ['COMMIT_EDITMSG', 'config', 'description', 'HEAD', 'index', 'packed-refs']\n",
      "C:/Users/MD DANISH ANWER/Python_Basic_To_Advanced\\.git\\hooks [] ['applypatch-msg.sample', 'commit-msg.sample', 'fsmonitor-watchman.sample', 'post-update.sample', 'pre-applypatch.sample', 'pre-commit.sample', 'pre-merge-commit.sample', 'pre-push.sample', 'pre-rebase.sample', 'pre-receive.sample', 'prepare-commit-msg.sample', 'update.sample']\n",
      "C:/Users/MD DANISH ANWER/Python_Basic_To_Advanced\\.git\\info [] ['exclude']\n",
      "C:/Users/MD DANISH ANWER/Python_Basic_To_Advanced\\.git\\logs ['refs'] ['HEAD']\n",
      "C:/Users/MD DANISH ANWER/Python_Basic_To_Advanced\\.git\\logs\\refs ['heads', 'remotes'] []\n",
      "C:/Users/MD DANISH ANWER/Python_Basic_To_Advanced\\.git\\logs\\refs\\heads [] ['main']\n",
      "C:/Users/MD DANISH ANWER/Python_Basic_To_Advanced\\.git\\logs\\refs\\remotes ['origin'] []\n",
      "C:/Users/MD DANISH ANWER/Python_Basic_To_Advanced\\.git\\logs\\refs\\remotes\\origin [] ['HEAD', 'main']\n",
      "C:/Users/MD DANISH ANWER/Python_Basic_To_Advanced\\.git\\objects ['0e', '1e', '21', '2a', '34', '36', '3d', '40', '46', '4a', '4d', '4e', '4f', '54', '58', '60', '68', '74', '76', '7e', '7f', '84', '86', '87', '94', '96', '9c', 'a5', 'a8', 'aa', 'b3', 'b7', 'b8', 'bd', 'c4', 'c5', 'cd', 'd6', 'ee', 'f3', 'f6', 'info', 'pack'] []\n",
      "C:/Users/MD DANISH ANWER/Python_Basic_To_Advanced\\.git\\objects\\0e [] ['b11beb634ebbf0d3becce91b2e88b03640541b']\n",
      "C:/Users/MD DANISH ANWER/Python_Basic_To_Advanced\\.git\\objects\\1e [] ['e1153a7cf4bf39bfc13e997adee57180093fba']\n",
      "C:/Users/MD DANISH ANWER/Python_Basic_To_Advanced\\.git\\objects\\21 [] ['1777b2f43b36a85c27ba77e0d0399e6710f517']\n",
      "C:/Users/MD DANISH ANWER/Python_Basic_To_Advanced\\.git\\objects\\2a [] ['32ec7e79babc13395bb591cfd2adecf5f80f7a']\n",
      "C:/Users/MD DANISH ANWER/Python_Basic_To_Advanced\\.git\\objects\\34 [] ['f374f2bf1290101eb4645def1f9f5a6ee8c78f']\n",
      "C:/Users/MD DANISH ANWER/Python_Basic_To_Advanced\\.git\\objects\\36 [] ['6293e108752ab2ac7687fd37f6a8e1c5f2ee69']\n",
      "C:/Users/MD DANISH ANWER/Python_Basic_To_Advanced\\.git\\objects\\3d [] ['1b6e6163a6380e4cb9ef1c86471f6cb6cfa503']\n",
      "C:/Users/MD DANISH ANWER/Python_Basic_To_Advanced\\.git\\objects\\40 [] ['bcca139b84e50abf9d5d5f44cf2238119f1294']\n",
      "C:/Users/MD DANISH ANWER/Python_Basic_To_Advanced\\.git\\objects\\46 [] ['3f2ebb0c6d7d6fc8e095be527fa579a976b9ec']\n",
      "C:/Users/MD DANISH ANWER/Python_Basic_To_Advanced\\.git\\objects\\4a [] ['0ac52c33e292960dc31b155579eb1f156bd133']\n",
      "C:/Users/MD DANISH ANWER/Python_Basic_To_Advanced\\.git\\objects\\4d [] ['d944935033defca30c198280ec5b511582aaf4']\n",
      "C:/Users/MD DANISH ANWER/Python_Basic_To_Advanced\\.git\\objects\\4e [] ['2d7b9248a02a03406258bd0e6d21ff3d7f566c', '4c0932d9055fe220cb11bb62b1be531dbb25c2']\n",
      "C:/Users/MD DANISH ANWER/Python_Basic_To_Advanced\\.git\\objects\\4f [] ['ab240f8a6931fd5251b7ee2bc21ee0fa7bfc31', 'b6db126d9efbb5f343d4949f85da55c5f22389']\n",
      "C:/Users/MD DANISH ANWER/Python_Basic_To_Advanced\\.git\\objects\\54 [] ['acd663d786c7b8daa8f5d6fd9bf65b30273852']\n",
      "C:/Users/MD DANISH ANWER/Python_Basic_To_Advanced\\.git\\objects\\58 [] ['68c906192267a73f71603694400ad4d9c67189']\n",
      "C:/Users/MD DANISH ANWER/Python_Basic_To_Advanced\\.git\\objects\\60 [] ['41d6c02a6f3ec70fe01bde041435d8237252b1']\n",
      "C:/Users/MD DANISH ANWER/Python_Basic_To_Advanced\\.git\\objects\\68 [] ['e063a565c3e015d51481c6d77cdb88896b11be']\n",
      "C:/Users/MD DANISH ANWER/Python_Basic_To_Advanced\\.git\\objects\\74 [] ['46abaf84b19c646ae113e32d500760dd6c6d51']\n",
      "C:/Users/MD DANISH ANWER/Python_Basic_To_Advanced\\.git\\objects\\76 [] ['8292e3461e41941c3383067effb1eedae31277', 'f5358297be68287f1e5204f07ab9c1d6c92cc6']\n",
      "C:/Users/MD DANISH ANWER/Python_Basic_To_Advanced\\.git\\objects\\7e [] ['b9a461986c6fed281eb278c7f4f02deba56442']\n",
      "C:/Users/MD DANISH ANWER/Python_Basic_To_Advanced\\.git\\objects\\7f [] ['ec51502cbc3200b3d0ffc6bbba1fe85e197f3d']\n",
      "C:/Users/MD DANISH ANWER/Python_Basic_To_Advanced\\.git\\objects\\84 [] ['9e10701b76eeb6c071613242e08375eed8507c']\n",
      "C:/Users/MD DANISH ANWER/Python_Basic_To_Advanced\\.git\\objects\\86 [] ['4f0b5f15ef06464c2e5a4c41c6902229e1b460']\n",
      "C:/Users/MD DANISH ANWER/Python_Basic_To_Advanced\\.git\\objects\\87 [] ['08e56d2b83a0495e0a2ce15ba097aefc5cf541']\n",
      "C:/Users/MD DANISH ANWER/Python_Basic_To_Advanced\\.git\\objects\\94 [] ['1b846e3f0e860cff3be00cb6d47daf1ec73cf1']\n",
      "C:/Users/MD DANISH ANWER/Python_Basic_To_Advanced\\.git\\objects\\96 [] ['a32e92a26a3392139f05168d5e05cf4fbbd0d4']\n",
      "C:/Users/MD DANISH ANWER/Python_Basic_To_Advanced\\.git\\objects\\9c [] ['2eff9e87874c6a93027b9168359aaec8bb2dbd']\n",
      "C:/Users/MD DANISH ANWER/Python_Basic_To_Advanced\\.git\\objects\\a5 [] ['881d7c9fdf49ded0af1e69b09a886ab7b46380']\n",
      "C:/Users/MD DANISH ANWER/Python_Basic_To_Advanced\\.git\\objects\\a8 [] ['36cc786ecd4fe0152fc87e61cc476ac8ef869e']\n",
      "C:/Users/MD DANISH ANWER/Python_Basic_To_Advanced\\.git\\objects\\aa [] ['a71de593231cf32f6e2c015fe0f57a244f5680']\n",
      "C:/Users/MD DANISH ANWER/Python_Basic_To_Advanced\\.git\\objects\\b3 [] ['2ef00c04a6d65c7b47572376551d6471b41e68']\n",
      "C:/Users/MD DANISH ANWER/Python_Basic_To_Advanced\\.git\\objects\\b7 [] ['757adb02fd19875186b24cd450c99b72169524']\n",
      "C:/Users/MD DANISH ANWER/Python_Basic_To_Advanced\\.git\\objects\\b8 [] ['be06ad76ac1f78b7de810dcf2f44fb3b5813c0']\n",
      "C:/Users/MD DANISH ANWER/Python_Basic_To_Advanced\\.git\\objects\\bd [] ['95c303774c445ef7cd1bf5b6ba14b1702c53a5']\n",
      "C:/Users/MD DANISH ANWER/Python_Basic_To_Advanced\\.git\\objects\\c4 [] ['4dfe07c57d328e7f2b4611536af1b3f5088d31']\n",
      "C:/Users/MD DANISH ANWER/Python_Basic_To_Advanced\\.git\\objects\\c5 [] ['3835fe2654b2842e9aee3255ec925b4ee6f1c3']\n",
      "C:/Users/MD DANISH ANWER/Python_Basic_To_Advanced\\.git\\objects\\cd [] ['9e62caaac20d0c25bbec95d2360070b4044351']\n",
      "C:/Users/MD DANISH ANWER/Python_Basic_To_Advanced\\.git\\objects\\d6 [] ['da9041e64f127cf5c7ca15bf54c642bfbcf6d1']\n",
      "C:/Users/MD DANISH ANWER/Python_Basic_To_Advanced\\.git\\objects\\ee [] ['46651177f6719fe72f00b8781881798d9974da']\n",
      "C:/Users/MD DANISH ANWER/Python_Basic_To_Advanced\\.git\\objects\\f3 [] ['5b7af4e42cfebed3b6df8d18555afc92276217']\n",
      "C:/Users/MD DANISH ANWER/Python_Basic_To_Advanced\\.git\\objects\\f6 [] ['fb4056b5f56836f255ece6260b40b9f39183f1']\n",
      "C:/Users/MD DANISH ANWER/Python_Basic_To_Advanced\\.git\\objects\\info [] []\n",
      "C:/Users/MD DANISH ANWER/Python_Basic_To_Advanced\\.git\\objects\\pack [] ['pack-58030d13fc40584f907618dc9306f20da2ea6e62.idx', 'pack-58030d13fc40584f907618dc9306f20da2ea6e62.pack']\n",
      "C:/Users/MD DANISH ANWER/Python_Basic_To_Advanced\\.git\\refs ['heads', 'remotes', 'tags'] []\n",
      "C:/Users/MD DANISH ANWER/Python_Basic_To_Advanced\\.git\\refs\\heads [] ['main']\n",
      "C:/Users/MD DANISH ANWER/Python_Basic_To_Advanced\\.git\\refs\\remotes ['origin'] []\n",
      "C:/Users/MD DANISH ANWER/Python_Basic_To_Advanced\\.git\\refs\\remotes\\origin [] ['HEAD', 'main']\n",
      "C:/Users/MD DANISH ANWER/Python_Basic_To_Advanced\\.git\\refs\\tags [] []\n",
      "C:/Users/MD DANISH ANWER/Python_Basic_To_Advanced\\.ipynb_checkpoints [] ['Dictionary-checkpoint.ipynb', 'Function_Import_Exploring_Libraries-checkpoint.ipynb', 'List_Comprehension-checkpoint.ipynb', 'List_Tuple_And_Sets-checkpoint.ipynb', 'my_module-checkpoint.ipynb', 'OS Module-checkpoint.ipynb', 'Scope_of_Variable-checkpoint.ipynb', 'Working_On_Integers_Float-checkpoint.ipynb', 'Working_On_String-checkpoint.ipynb']\n",
      "C:/Users/MD DANISH ANWER/Python_Basic_To_Advanced\\__pycache__ [] ['mymodule.cpython-38.pyc']\n"
     ]
    }
   ],
   "source": [
    "for dirpath,dirnames,filenames in os.walk('C:/Users/MD DANISH ANWER/Python_Basic_To_Advanced'):\n",
    "    print(dirpath,dirnames,filenames)"
   ]
  },
  {
   "cell_type": "code",
   "execution_count": null,
   "metadata": {},
   "outputs": [],
   "source": []
  },
  {
   "cell_type": "code",
   "execution_count": null,
   "metadata": {},
   "outputs": [],
   "source": []
  }
 ],
 "metadata": {
  "kernelspec": {
   "display_name": "Python 3",
   "language": "python",
   "name": "python3"
  },
  "language_info": {
   "codemirror_mode": {
    "name": "ipython",
    "version": 3
   },
   "file_extension": ".py",
   "mimetype": "text/x-python",
   "name": "python",
   "nbconvert_exporter": "python",
   "pygments_lexer": "ipython3",
   "version": "3.8.3"
  }
 },
 "nbformat": 4,
 "nbformat_minor": 4
}
