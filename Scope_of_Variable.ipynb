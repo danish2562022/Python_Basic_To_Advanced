{
 "cells": [
  {
   "cell_type": "markdown",
   "metadata": {},
   "source": [
    "#### Local, Enclosing, Global, and  Built-in"
   ]
  },
  {
   "cell_type": "code",
   "execution_count": 1,
   "metadata": {},
   "outputs": [
    {
     "name": "stdout",
     "output_type": "stream",
     "text": [
      "Local_y\n",
      "Global_x\n"
     ]
    }
   ],
   "source": [
    "# Global and local\n",
    "\n",
    "x=\"Global_x\"   #Globally declared\n",
    "\n",
    "def test():\n",
    "    y='Local_y'  #locally declared\n",
    "    print(y)\n",
    "    print(x)    \n",
    "    \n",
    "test()"
   ]
  },
  {
   "cell_type": "code",
   "execution_count": 3,
   "metadata": {},
   "outputs": [
    {
     "ename": "NameError",
     "evalue": "name 'y' is not defined",
     "output_type": "error",
     "traceback": [
      "\u001b[1;31m---------------------------------------------------------------------------\u001b[0m",
      "\u001b[1;31mNameError\u001b[0m                                 Traceback (most recent call last)",
      "\u001b[1;32m<ipython-input-3-ddf9e83d8209>\u001b[0m in \u001b[0;36m<module>\u001b[1;34m\u001b[0m\n\u001b[1;32m----> 1\u001b[1;33m \u001b[0mprint\u001b[0m\u001b[1;33m(\u001b[0m\u001b[0my\u001b[0m\u001b[1;33m)\u001b[0m \u001b[1;31m# Error is thrown because y is locally declared in function test()\u001b[0m\u001b[1;33m\u001b[0m\u001b[1;33m\u001b[0m\u001b[0m\n\u001b[0m",
      "\u001b[1;31mNameError\u001b[0m: name 'y' is not defined"
     ]
    }
   ],
   "source": [
    "print(y) # Error is thrown because y is locally declared in function test()"
   ]
  },
  {
   "cell_type": "code",
   "execution_count": 9,
   "metadata": {},
   "outputs": [
    {
     "name": "stdout",
     "output_type": "stream",
     "text": [
      "Local_x\n",
      "Global_x\n"
     ]
    }
   ],
   "source": [
    "\n",
    "x=\"Global_x\"   #Globally declared\n",
    "\n",
    "def test():\n",
    "    x='Local_x'#locally declared\n",
    "    \n",
    "    print(x) # print local value of x defined inside function   \n",
    "    \n",
    "test()\n",
    "print(x) #print global value of x"
   ]
  },
  {
   "cell_type": "code",
   "execution_count": 8,
   "metadata": {},
   "outputs": [
    {
     "name": "stdout",
     "output_type": "stream",
     "text": [
      "Local_x\n",
      "Local_x\n"
     ]
    }
   ],
   "source": [
    "x=\"Global_x\"   #Globally declared\n",
    "\n",
    "def test():\n",
    "    global x  # here we are working on globally declared x\n",
    "    x='Local_x'\n",
    "    \n",
    "    print(x) # print local value of x defined inside function   \n",
    "    \n",
    "test()\n",
    "print(x) #print global value of x"
   ]
  },
  {
   "cell_type": "code",
   "execution_count": null,
   "metadata": {},
   "outputs": [],
   "source": []
  }
 ],
 "metadata": {
  "kernelspec": {
   "display_name": "Python 3",
   "language": "python",
   "name": "python3"
  },
  "language_info": {
   "codemirror_mode": {
    "name": "ipython",
    "version": 3
   },
   "file_extension": ".py",
   "mimetype": "text/x-python",
   "name": "python",
   "nbconvert_exporter": "python",
   "pygments_lexer": "ipython3",
   "version": "3.8.3"
  }
 },
 "nbformat": 4,
 "nbformat_minor": 4
}
