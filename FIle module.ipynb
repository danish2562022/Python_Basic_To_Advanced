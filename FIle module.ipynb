{
 "cells": [
  {
   "cell_type": "code",
   "execution_count": 1,
   "metadata": {},
   "outputs": [
    {
     "data": {
      "text/plain": [
       "'C:\\\\Users\\\\MD DANISH ANWER\\\\Python_Basic_To_Advanced'"
      ]
     },
     "execution_count": 1,
     "metadata": {},
     "output_type": "execute_result"
    }
   ],
   "source": [
    "import os\n",
    "os.getcwd()"
   ]
  },
  {
   "cell_type": "code",
   "execution_count": 3,
   "metadata": {},
   "outputs": [],
   "source": [
    "f=open('test.txt','w')"
   ]
  },
  {
   "cell_type": "code",
   "execution_count": 4,
   "metadata": {},
   "outputs": [
    {
     "data": {
      "text/plain": [
       "['.git',\n",
       " '.ipynb_checkpoints',\n",
       " 'DateTime Module.ipynb',\n",
       " 'Dictionary.ipynb',\n",
       " 'FIle module.ipynb',\n",
       " 'Function_Import_Exploring_Libraries.ipynb',\n",
       " 'import.py',\n",
       " 'List_Comprehension.ipynb',\n",
       " 'List_Tuple_And_Sets.ipynb',\n",
       " 'mymodule.py',\n",
       " 'my_module.ipynb',\n",
       " 'OS Module.ipynb',\n",
       " 'README.md',\n",
       " 'Scope_of_Variable.ipynb',\n",
       " 'test.txt',\n",
       " 'Working_On_Integers_Float.ipynb',\n",
       " 'Working_On_String.ipynb',\n",
       " '__pycache__']"
      ]
     },
     "execution_count": 4,
     "metadata": {},
     "output_type": "execute_result"
    }
   ],
   "source": [
    "os.listdir()"
   ]
  },
  {
   "cell_type": "code",
   "execution_count": 5,
   "metadata": {},
   "outputs": [
    {
     "name": "stdout",
     "output_type": "stream",
     "text": [
      "test.txt\n"
     ]
    }
   ],
   "source": [
    "print(f.name)"
   ]
  },
  {
   "cell_type": "code",
   "execution_count": 6,
   "metadata": {},
   "outputs": [
    {
     "name": "stdout",
     "output_type": "stream",
     "text": [
      "w\n"
     ]
    }
   ],
   "source": [
    "print(f.mode)"
   ]
  },
  {
   "cell_type": "code",
   "execution_count": 7,
   "metadata": {},
   "outputs": [],
   "source": [
    "f.close()"
   ]
  },
  {
   "cell_type": "code",
   "execution_count": 9,
   "metadata": {},
   "outputs": [],
   "source": [
    "with open('test.txt','r') as f: # THis is the nice way, it will close file automatically\n",
    "    pass\n",
    "    "
   ]
  },
  {
   "cell_type": "code",
   "execution_count": 13,
   "metadata": {},
   "outputs": [
    {
     "name": "stdout",
     "output_type": "stream",
     "text": [
      "['Danish\\n', 'Anwer\\n', 'Sanketa\\n', 'Hegde\\n', 'Hari\\n', 'Krishna\\n', 'Bandhu']\n"
     ]
    }
   ],
   "source": [
    "with open('test.txt','r') as f: # THis is the nice way, it will close file automatically\n",
    "    f_contents=f.readlines()\n",
    "    print(f_contents)"
   ]
  },
  {
   "cell_type": "code",
   "execution_count": 17,
   "metadata": {},
   "outputs": [
    {
     "name": "stdout",
     "output_type": "stream",
     "text": [
      "Danish\n",
      "Anwer\n",
      "Sanketa\n",
      "\n"
     ]
    }
   ],
   "source": [
    "with open('test.txt','r') as f: # THis is the nice way, it will close file automatically\n",
    "    f_contents=f.readline()\n",
    "    print(f_contents,end=\"\")\n",
    "    \n",
    "    f_contents=f.readline()\n",
    "    print(f_contents,end=\"\")\n",
    "    \n",
    "    f_contents=f.readline()\n",
    "    print(f_contents)"
   ]
  },
  {
   "cell_type": "code",
   "execution_count": 20,
   "metadata": {},
   "outputs": [
    {
     "name": "stdout",
     "output_type": "stream",
     "text": [
      "Danish\n",
      "Anwer\n",
      "Sanketa\n",
      "Hegde\n",
      "Hari\n",
      "Krishna\n",
      "Bandhu"
     ]
    }
   ],
   "source": [
    "with open('test.txt','r') as f:\n",
    "    for line in f:\n",
    "        print(line,end=\"\")"
   ]
  },
  {
   "cell_type": "code",
   "execution_count": 22,
   "metadata": {},
   "outputs": [
    {
     "name": "stdout",
     "output_type": "stream",
     "text": [
      "Danish\n",
      "Anwer\n",
      "Sanketa\n",
      "Hegde\n",
      "Hari\n",
      "Krishna\n",
      "Bandhu\n"
     ]
    }
   ],
   "source": [
    "with open('test.txt','r') as f:\n",
    "    f_content=f.read()\n",
    "    print(f_content)"
   ]
  },
  {
   "cell_type": "code",
   "execution_count": 27,
   "metadata": {
    "scrolled": true
   },
   "outputs": [
    {
     "name": "stdout",
     "output_type": "stream",
     "text": [
      "Danish\n",
      "Anw\n",
      "er\n",
      "Sanketa\n",
      "\n",
      "Hegde\n",
      "Har\n"
     ]
    }
   ],
   "source": [
    "with open('test.txt','r') as f:\n",
    "    f_content=f.read(10)\n",
    "    print(f_content)\n",
    "    \n",
    "    f_content=f.read(10)\n",
    "    print(f_content)\n",
    "    \n",
    "    f_content=f.read(10)\n",
    "    print(f_content)   "
   ]
  },
  {
   "cell_type": "code",
   "execution_count": 31,
   "metadata": {},
   "outputs": [
    {
     "name": "stdout",
     "output_type": "stream",
     "text": [
      "Danish\n",
      "Anw\n",
      "10\n"
     ]
    }
   ],
   "source": [
    "with open('test.txt','r') as f:\n",
    "    f_content=f.read(10)\n",
    "    print(f_content)\n",
    "    print(f.tell())"
   ]
  },
  {
   "cell_type": "code",
   "execution_count": 32,
   "metadata": {},
   "outputs": [
    {
     "name": "stdout",
     "output_type": "stream",
     "text": [
      "Danish\n",
      "Anw\n",
      "Danish\n",
      "Anw\n",
      "Danish\n",
      "Anw\n"
     ]
    }
   ],
   "source": [
    "with open('test.txt','r') as f:\n",
    "    f_content=f.read(10)\n",
    "    print(f_content)\n",
    "    \n",
    "    f.seek(0)\n",
    "    f_content=f.read(10)\n",
    "    print(f_content)\n",
    "    \n",
    "    f.seek(0)\n",
    "    f_content=f.read(10)\n",
    "    print(f_content)   "
   ]
  },
  {
   "cell_type": "code",
   "execution_count": 33,
   "metadata": {},
   "outputs": [
    {
     "ename": "UnsupportedOperation",
     "evalue": "not writable",
     "output_type": "error",
     "traceback": [
      "\u001b[1;31m---------------------------------------------------------------------------\u001b[0m",
      "\u001b[1;31mUnsupportedOperation\u001b[0m                      Traceback (most recent call last)",
      "\u001b[1;32m<ipython-input-33-a72f0bf9605b>\u001b[0m in \u001b[0;36m<module>\u001b[1;34m\u001b[0m\n\u001b[0;32m      1\u001b[0m \u001b[1;32mwith\u001b[0m \u001b[0mopen\u001b[0m\u001b[1;33m(\u001b[0m\u001b[1;34m'test.txt'\u001b[0m\u001b[1;33m,\u001b[0m\u001b[1;34m'r'\u001b[0m\u001b[1;33m)\u001b[0m \u001b[1;32mas\u001b[0m \u001b[0mf\u001b[0m\u001b[1;33m:\u001b[0m\u001b[1;33m\u001b[0m\u001b[1;33m\u001b[0m\u001b[0m\n\u001b[1;32m----> 2\u001b[1;33m     \u001b[0mf\u001b[0m\u001b[1;33m.\u001b[0m\u001b[0mwrite\u001b[0m\u001b[1;33m(\u001b[0m\u001b[1;34m'test'\u001b[0m\u001b[1;33m)\u001b[0m\u001b[1;33m\u001b[0m\u001b[1;33m\u001b[0m\u001b[0m\n\u001b[0m",
      "\u001b[1;31mUnsupportedOperation\u001b[0m: not writable"
     ]
    }
   ],
   "source": [
    "with open('test.txt','r') as f:\n",
    "    f.write('test')"
   ]
  },
  {
   "cell_type": "code",
   "execution_count": 37,
   "metadata": {},
   "outputs": [],
   "source": [
    "with open('test.txt','w') as f: # w - create new file or overwrite existing file..be aware.\\\n",
    "                                #a- append\n",
    "    f.write('test')\n",
    "    f.write('test')"
   ]
  },
  {
   "cell_type": "code",
   "execution_count": 35,
   "metadata": {},
   "outputs": [],
   "source": [
    "with open('test.txt','w') as f: # w - create new file or overwrite existing file..be aware.\\\n",
    "                                #a- append\n",
    "    f.write('test')\n",
    "    f.seek(0)\n",
    "    f.write('R')"
   ]
  },
  {
   "cell_type": "code",
   "execution_count": 38,
   "metadata": {},
   "outputs": [],
   "source": [
    "with open('test.txt','r') as rf:\n",
    "    with open('test_copy.txt','w') as wf:\n",
    "        for line in rf:\n",
    "            wf.write(line)\n",
    "            "
   ]
  },
  {
   "cell_type": "code",
   "execution_count": null,
   "metadata": {},
   "outputs": [],
   "source": []
  }
 ],
 "metadata": {
  "kernelspec": {
   "display_name": "Python 3",
   "language": "python",
   "name": "python3"
  },
  "language_info": {
   "codemirror_mode": {
    "name": "ipython",
    "version": 3
   },
   "file_extension": ".py",
   "mimetype": "text/x-python",
   "name": "python",
   "nbconvert_exporter": "python",
   "pygments_lexer": "ipython3",
   "version": "3.8.3"
  }
 },
 "nbformat": 4,
 "nbformat_minor": 4
}
